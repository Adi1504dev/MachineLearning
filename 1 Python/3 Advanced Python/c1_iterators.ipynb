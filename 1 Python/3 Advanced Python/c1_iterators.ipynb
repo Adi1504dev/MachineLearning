{
 "cells": [
  {
   "cell_type": "markdown",
   "id": "92660f10",
   "metadata": {},
   "source": [
    "### Iterators\n",
    "Iterators are advanced python concepts that allows for the efficient looping and memory management . Iterators provides way to access elements of a collections sequentially without exposing underlying architecture.\n"
   ]
  },
  {
   "cell_type": "code",
   "execution_count": 1,
   "id": "91efa1e3",
   "metadata": {},
   "outputs": [
    {
     "name": "stdout",
     "output_type": "stream",
     "text": [
      "1\n",
      "2\n",
      "3\n",
      "4\n",
      "5\n",
      "6\n"
     ]
    }
   ],
   "source": [
    "lst=[1,2,3,4,5,6]\n",
    "\n",
    "#one way to iterate\n",
    "for i in lst:\n",
    "    print(i)"
   ]
  },
  {
   "cell_type": "code",
   "execution_count": 2,
   "id": "b3e52e14",
   "metadata": {},
   "outputs": [
    {
     "name": "stdout",
     "output_type": "stream",
     "text": [
      "<class 'list_iterator'>\n"
     ]
    }
   ],
   "source": [
    "iterator=iter(lst)\n",
    "print(type(iterator))"
   ]
  },
  {
   "cell_type": "markdown",
   "id": "ab19586f",
   "metadata": {},
   "source": [
    "##### It uses lazy loading technique\n",
    "##### Below command will print that this is list_iterator at memory location\n",
    "#### Rit now I can not see the elements iterator"
   ]
  },
  {
   "cell_type": "code",
   "execution_count": 3,
   "id": "326e3631",
   "metadata": {},
   "outputs": [],
   "source": [
    "#By lazy loading we get only one value at time\n",
    "next(iterator)\n",
    "iterator=iter(lst)"
   ]
  },
  {
   "cell_type": "code",
   "execution_count": 4,
   "id": "67335da3",
   "metadata": {},
   "outputs": [
    {
     "name": "stdout",
     "output_type": "stream",
     "text": [
      "1\n"
     ]
    }
   ],
   "source": [
    "\n",
    "# using try catch\n",
    "try:\n",
    "   print(next(iterator))\n",
    "except StopIteration:\n",
    "    print(\"No more element left\")"
   ]
  },
  {
   "cell_type": "code",
   "execution_count": 5,
   "id": "7e22d58d",
   "metadata": {},
   "outputs": [],
   "source": [
    "#Same can be done using string\n",
    "str=\"Hello world\"\n",
    "iterator=iter(str)"
   ]
  },
  {
   "cell_type": "code",
   "execution_count": 6,
   "id": "d0e2d66e",
   "metadata": {},
   "outputs": [
    {
     "name": "stdout",
     "output_type": "stream",
     "text": [
      "H\n"
     ]
    }
   ],
   "source": [
    "# using try catch-String alphabets parsing\n",
    "try:\n",
    "   print(next(iterator))\n",
    "except StopIteration:\n",
    "    print(\"No more element left\")"
   ]
  }
 ],
 "metadata": {
  "kernelspec": {
   "display_name": "Python 3",
   "language": "python",
   "name": "python3"
  },
  "language_info": {
   "codemirror_mode": {
    "name": "ipython",
    "version": 3
   },
   "file_extension": ".py",
   "mimetype": "text/x-python",
   "name": "python",
   "nbconvert_exporter": "python",
   "pygments_lexer": "ipython3",
   "version": "3.10.17"
  }
 },
 "nbformat": 4,
 "nbformat_minor": 5
}
