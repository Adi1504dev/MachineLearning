{
 "cells": [
  {
   "cell_type": "markdown",
   "id": "f924ab26",
   "metadata": {},
   "source": [
    "### Generators\n",
    "\n",
    "Generators are simpler way to create iterators . They use yeild keyword to produce aseries of values lazily that means they genrates the value on the fly and do not stores them in memory. It is subclass of iterators"
   ]
  },
  {
   "cell_type": "code",
   "execution_count": 1,
   "id": "5112886e",
   "metadata": {},
   "outputs": [
    {
     "data": {
      "text/plain": [
       "0"
      ]
     },
     "execution_count": 1,
     "metadata": {},
     "output_type": "execute_result"
    }
   ],
   "source": [
    "def square(n):\n",
    "    for i in range(3):\n",
    "        return i**2\n",
    "\n",
    "square(3)"
   ]
  },
  {
   "cell_type": "markdown",
   "id": "babd926c",
   "metadata": {
    "notebookRunGroups": {
     "groupValue": "1"
    }
   },
   "source": [
    "##### Using yield instead of return we create generator object"
   ]
  },
  {
   "cell_type": "code",
   "execution_count": 2,
   "id": "7df703fe",
   "metadata": {},
   "outputs": [
    {
     "name": "stdout",
     "output_type": "stream",
     "text": [
      "0\n",
      "1\n",
      "4\n"
     ]
    }
   ],
   "source": [
    "\n",
    "# it do not store data values in memory rather it generates then on runtime \n",
    "\n",
    "def square(n):\n",
    "    for i in range(3):\n",
    "        yield i**2\n",
    "\n",
    "for i in square(3):\n",
    "    print(i) #for every iteration it will call function--> generate value\n",
    "    "
   ]
  },
  {
   "cell_type": "code",
   "execution_count": 3,
   "id": "5a501e06",
   "metadata": {},
   "outputs": [
    {
     "data": {
      "text/plain": [
       "<generator object square at 0x000001FC9285CE40>"
      ]
     },
     "execution_count": 3,
     "metadata": {},
     "output_type": "execute_result"
    }
   ],
   "source": [
    "#or \n",
    "a=square(3)\n",
    "a #It is genreator object"
   ]
  },
  {
   "cell_type": "code",
   "execution_count": 4,
   "id": "bc505f74",
   "metadata": {},
   "outputs": [
    {
     "data": {
      "text/plain": [
       "0"
      ]
     },
     "execution_count": 4,
     "metadata": {},
     "output_type": "execute_result"
    }
   ],
   "source": [
    "next(a)"
   ]
  },
  {
   "cell_type": "code",
   "execution_count": 5,
   "id": "1bcb2325",
   "metadata": {},
   "outputs": [
    {
     "data": {
      "text/plain": [
       "1"
      ]
     },
     "execution_count": 5,
     "metadata": {},
     "output_type": "execute_result"
    }
   ],
   "source": [
    "next(a)"
   ]
  },
  {
   "cell_type": "code",
   "execution_count": 6,
   "id": "a0dd8d50",
   "metadata": {},
   "outputs": [
    {
     "data": {
      "text/plain": [
       "4"
      ]
     },
     "execution_count": 6,
     "metadata": {},
     "output_type": "execute_result"
    }
   ],
   "source": [
    "next(a)"
   ]
  },
  {
   "cell_type": "markdown",
   "id": "e73e34a9",
   "metadata": {},
   "source": [
    "#### Practicle Example: Reading large file\n",
    "If u have large file u can load chunks of if display it without loading entire file into memory"
   ]
  },
  {
   "cell_type": "code",
   "execution_count": 8,
   "id": "cd2acf48",
   "metadata": {},
   "outputs": [
    {
     "name": "stdout",
     "output_type": "stream",
     "text": [
      "Writing a long article that people actually want to read? Here’s the secret.\n",
      "\n",
      "We’ve all been there, scrolling through an article that feels like a textbook, wondering, “Why did I even click this?” If you’re writing something long and detailed, the trick isn’t just packing it with information, it’s about keeping the reader hooked.\n",
      "\n",
      "Start with these 4 essentials:\n",
      "\n",
      "1. Hook ’em from the start.\n",
      "\n",
      "Think about your reader like someone at a party. If your first sentence doesn’t grab their attention, they’ll move on.\n",
      "\n",
      "• Start with a question, bold statement, or surprising fact.\n",
      "\n",
      "• Example: “Most people read 20% of an article. Here’s how to keep them reading the other 80%.”\n",
      "\n",
      "2. Break it into bite-sized chunks.\n",
      "\n",
      "Huge walls of text? A big no. Use:\n",
      "\n",
      "• Short paragraphs.\n",
      "\n",
      "• Subheadings that act like guideposts.\n",
      "\n",
      "• Bulleted lists (like this).\n",
      "\n",
      "Pro Tip: People skim. Make it easy for them to find the gold nuggets.\n",
      "\n",
      "3. Weave a story.\n",
      "\n",
      "Humans love stories.\n",
      "\n",
      "• Example: Instead of saying, “Editing is important,” share how a typo once cost a company millions.\n",
      "\n",
      "• Use anecdotes to connect ideas and make information relatable.\n",
      "\n",
      "4. Simplify your language.\n",
      "\n",
      "Write like you’re talking to a friend. If a sentence makes you pause, rewrite it.\n",
      "\n",
      "• Avoid jargon or overly academic language.\n",
      "\n",
      "• Tools like Hemingway App can help keep your writing crisp.\n",
      "\n",
      "Keep it engaging throughout:\n",
      "\n",
      "• Ask questions mid-article.\n",
      "\n",
      "• “Ever wonder why some articles feel effortless to read?” Questions keep readers curious.\n",
      "\n",
      "• Mix up your rhythm.\n",
      "\n",
      "Alternate between short, punchy sentences and longer, flowing ones.\n",
      "\n",
      "• Add examples, metaphors, or analogies.\n",
      "\n",
      "• Example: “Writing without subheadings is like driving at night without headlights.”\n",
      "\n",
      "End with purpose.\n",
      "\n",
      "A strong ending is like dessert, it’s what people remember.\n",
      "\n",
      "• Recap the main takeaway.\n",
      "\n",
      "• Include a call to action (CTA): “What’s the one tip here you’ll try today?”\n",
      "\n",
      "Real-Life Context:\n",
      "\n",
      "When I first started writing long pieces, I’d cram in everything I knew. The result? A wordy mess that even I didn’t want to reread.\n",
      "\n",
      "Then I learned the art of structure and storytelling. One of my most detailed articles went viral, not because it was long, but because it flowed. The secret? Breaking it down, adding relatable stories, and keeping the tone conversational.\n",
      "\n",
      "Lesson: Long articles aren’t about the word count, they’re about the value. When you write like you’re solving a problem with your reader, the length becomes irrelevant.\n"
     ]
    }
   ],
   "source": [
    "def read_largeFile(file_path):\n",
    "    with open(file_path,'r') as file:\n",
    "        for line in file:\n",
    "            yield line\n",
    "\n",
    "for line in read_largeFile(\"large_file.txt\"):\n",
    "    print(line.strip())"
   ]
  }
 ],
 "metadata": {
  "kernelspec": {
   "display_name": "Python 3",
   "language": "python",
   "name": "python3"
  },
  "language_info": {
   "codemirror_mode": {
    "name": "ipython",
    "version": 3
   },
   "file_extension": ".py",
   "mimetype": "text/x-python",
   "name": "python",
   "nbconvert_exporter": "python",
   "pygments_lexer": "ipython3",
   "version": "3.10.17"
  }
 },
 "nbformat": 4,
 "nbformat_minor": 5
}
