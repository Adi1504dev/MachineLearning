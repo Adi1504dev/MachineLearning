{
 "cells": [
  {
   "cell_type": "markdown",
   "id": "2013f084",
   "metadata": {
    "notebookRunGroups": {
     "groupValue": "1"
    }
   },
   "source": [
    "### SQL VS SQLLITE\n",
    "SQL (Structured Query Language) is the standard language used to manage and interact with relational databases using commands like SELECT, INSERT, and UPDATE.\n",
    "\n",
    "SQLite is a self-contained, serverless, and zero-configuration database engine that uses SQL syntax.\n",
    "\n",
    "It stores the entire database in a single file and is ideal for mobile apps, testing, and lightweight applications.\n",
    "While SQL is the language, SQLite is one of the systems that uses it."
   ]
  },
  {
   "cell_type": "markdown",
   "id": "090b06aa",
   "metadata": {},
   "source": [
    "#### Connect to SQL LITE database"
   ]
  },
  {
   "cell_type": "code",
   "execution_count": 20,
   "id": "7a62f20e",
   "metadata": {},
   "outputs": [],
   "source": [
    "import sqlite3\n",
    "connection=sqlite3.Connection(\"example.db\")"
   ]
  },
  {
   "cell_type": "markdown",
   "id": "d7ecdb3a",
   "metadata": {
    "notebookRunGroups": {
     "groupValue": "1"
    }
   },
   "source": [
    "### Creating cusor to create and insert data to table"
   ]
  },
  {
   "cell_type": "code",
   "execution_count": 21,
   "id": "5b74ee1c",
   "metadata": {},
   "outputs": [],
   "source": [
    "cursor=connection.cursor()\n",
    "# This creates DB file locally check 5 SQL lite folder"
   ]
  },
  {
   "cell_type": "markdown",
   "id": "abcac930",
   "metadata": {},
   "source": [
    "\n",
    "#### Create a Table"
   ]
  },
  {
   "cell_type": "code",
   "execution_count": 22,
   "id": "d529a41a",
   "metadata": {},
   "outputs": [],
   "source": [
    "\n",
    "cursor.execute('''\n",
    "Create Table If Not Exists employees(\n",
    "    id Integer Primary Key,\n",
    "    name Text Not Null,\n",
    "    age Integer,\n",
    "    department text\n",
    "    )\n",
    "''')\n",
    "\n",
    "connection.commit()"
   ]
  },
  {
   "cell_type": "markdown",
   "id": "71be7bf4",
   "metadata": {},
   "source": [
    "#### Inserting data "
   ]
  },
  {
   "cell_type": "code",
   "execution_count": 23,
   "id": "f3b963dd",
   "metadata": {},
   "outputs": [],
   "source": [
    "## Insert the data in sqlite table\n",
    "cursor.execute('''\n",
    "Insert Into employees(name,age,department)\n",
    "               values('Krish',32,'Data Scientist')\n",
    "\n",
    "''')\n",
    "\n",
    "cursor.execute('''\n",
    "INSERT INTO employees (name, age, department)\n",
    "VALUES ('Bob', 25, 'Engineering')\n",
    "''')\n",
    "\n",
    "cursor.execute('''\n",
    "INSERT INTO employees (name, age, department)\n",
    "VALUES ('Charlie', 35, 'Finance')\n",
    "''')\n",
    "\n",
    "## commi the changes\n",
    "connection.commit()"
   ]
  },
  {
   "cell_type": "markdown",
   "id": "94c03057",
   "metadata": {},
   "source": [
    "#### Query the data from the table"
   ]
  },
  {
   "cell_type": "code",
   "execution_count": 24,
   "id": "0180b13b",
   "metadata": {},
   "outputs": [
    {
     "name": "stdout",
     "output_type": "stream",
     "text": [
      "(1, 'Krish', 32, 'Data Scientist')\n",
      "(2, 'Bob', 25, 'Engineering')\n",
      "(3, 'Charlie', 35, 'Finance')\n"
     ]
    }
   ],
   "source": [
    "\n",
    "cursor.execute('Select * from employees')\n",
    "rows=cursor.fetchall()\n",
    "\n",
    "## print the queried data\n",
    "\n",
    "for row in rows:\n",
    "    print(row)"
   ]
  },
  {
   "cell_type": "markdown",
   "id": "5fad5aec",
   "metadata": {},
   "source": [
    "#### Update the data in the table"
   ]
  },
  {
   "cell_type": "code",
   "execution_count": 25,
   "id": "448bb64b",
   "metadata": {},
   "outputs": [],
   "source": [
    "\n",
    "cursor.execute('''\n",
    "UPDATE employees\n",
    "Set age=34\n",
    "where name=\"Krish\"\n",
    "''')\n",
    "\n",
    "connection.commit()"
   ]
  },
  {
   "cell_type": "code",
   "execution_count": 26,
   "id": "bd6187f1",
   "metadata": {},
   "outputs": [
    {
     "name": "stdout",
     "output_type": "stream",
     "text": [
      "(1, 'Krish', 34, 'Data Scientist')\n",
      "(2, 'Bob', 25, 'Engineering')\n",
      "(3, 'Charlie', 35, 'Finance')\n"
     ]
    }
   ],
   "source": [
    "## Query the data from the table\n",
    "cursor.execute('Select * from employees')\n",
    "rows=cursor.fetchall()\n",
    "\n",
    "## print the queried data\n",
    "\n",
    "for row in rows:\n",
    "    print(row)"
   ]
  },
  {
   "cell_type": "markdown",
   "id": "1ddb4e87",
   "metadata": {},
   "source": [
    "#### Delete the data from the table"
   ]
  },
  {
   "cell_type": "code",
   "execution_count": 27,
   "id": "de7a4027",
   "metadata": {},
   "outputs": [],
   "source": [
    "\n",
    "cursor.execute('''\n",
    "Delete from employees\n",
    "               where name ='Bob'\n",
    "''')\n",
    "\n",
    "connection.commit()"
   ]
  },
  {
   "cell_type": "code",
   "execution_count": 28,
   "id": "01a00752",
   "metadata": {},
   "outputs": [
    {
     "name": "stdout",
     "output_type": "stream",
     "text": [
      "(1, 'Krish', 34, 'Data Scientist')\n",
      "(3, 'Charlie', 35, 'Finance')\n"
     ]
    }
   ],
   "source": [
    "\n",
    "## Query the data from the table\n",
    "cursor.execute('Select * from employees')\n",
    "rows=cursor.fetchall()\n",
    "\n",
    "## print the queried data\n",
    "\n",
    "for row in rows:\n",
    "    print(row)"
   ]
  },
  {
   "cell_type": "markdown",
   "id": "94a2e540",
   "metadata": {},
   "source": [
    "#### Working with sales data"
   ]
  },
  {
   "cell_type": "code",
   "execution_count": null,
   "id": "76d0a2fd",
   "metadata": {},
   "outputs": [],
   "source": [
    "\n",
    "connection = sqlite3.connect('sales_data.db')\n",
    "cursor = connection.cursor()\n",
    "\n",
    "# Create a table for sales data\n",
    "cursor.execute('''\n",
    "CREATE TABLE IF NOT EXISTS sales (\n",
    "    id INTEGER PRIMARY KEY,\n",
    "    date TEXT NOT NULL,\n",
    "    product TEXT NOT NULL,\n",
    "    sales INTEGER,\n",
    "    region TEXT\n",
    ")\n",
    "''')\n",
    "\n",
    "# Insert data into the sales table\n",
    "sales_data = [\n",
    "    ('2023-01-01', 'Product1', 100, 'North'),\n",
    "    ('2023-01-02', 'Product2', 200, 'South'),\n",
    "    ('2023-01-03', 'Product1', 150, 'East'),\n",
    "    ('2023-01-04', 'Product3', 250, 'West'),\n",
    "    ('2023-01-05', 'Product2', 300, 'North')\n",
    "]\n",
    "\n",
    "## Executing many records at once\n",
    "## executemany -----> runs for all the records in sales data\n",
    "\n",
    "cursor.executemany('''\n",
    "Insert into sales(date,product,sales,region)\n",
    "                   values(?,?,?,?)\n",
    "''',sales_data)\n",
    "\n",
    "connection.commit()"
   ]
  },
  {
   "cell_type": "code",
   "execution_count": 30,
   "id": "d684e6cf",
   "metadata": {},
   "outputs": [
    {
     "name": "stdout",
     "output_type": "stream",
     "text": [
      "(1, '2023-01-01', 'Product1', 100, 'North')\n",
      "(2, '2023-01-02', 'Product2', 200, 'South')\n",
      "(3, '2023-01-03', 'Product1', 150, 'East')\n",
      "(4, '2023-01-04', 'Product3', 250, 'West')\n",
      "(5, '2023-01-05', 'Product2', 300, 'North')\n"
     ]
    }
   ],
   "source": [
    "# Query data from the sales table\n",
    "cursor.execute('SELECT * FROM sales')\n",
    "rows = cursor.fetchall()\n",
    "\n",
    "# Print the queried data\n",
    "for row in rows:\n",
    "    print(row)"
   ]
  },
  {
   "cell_type": "markdown",
   "id": "69e33b6e",
   "metadata": {},
   "source": [
    "#### close the connection\n"
   ]
  },
  {
   "cell_type": "code",
   "execution_count": 31,
   "id": "def7a64a",
   "metadata": {},
   "outputs": [],
   "source": [
    "connection.close()"
   ]
  },
  {
   "cell_type": "code",
   "execution_count": 32,
   "id": "e2db2185",
   "metadata": {},
   "outputs": [
    {
     "ename": "ProgrammingError",
     "evalue": "Cannot operate on a closed database.",
     "output_type": "error",
     "traceback": [
      "\u001b[1;31m---------------------------------------------------------------------------\u001b[0m",
      "\u001b[1;31mProgrammingError\u001b[0m                          Traceback (most recent call last)",
      "Cell \u001b[1;32mIn[32], line 2\u001b[0m\n\u001b[0;32m      1\u001b[0m \u001b[38;5;66;03m# Query data from the sales table\u001b[39;00m\n\u001b[1;32m----> 2\u001b[0m \u001b[43mcursor\u001b[49m\u001b[38;5;241;43m.\u001b[39;49m\u001b[43mexecute\u001b[49m\u001b[43m(\u001b[49m\u001b[38;5;124;43m'\u001b[39;49m\u001b[38;5;124;43mSELECT * FROM sales\u001b[39;49m\u001b[38;5;124;43m'\u001b[39;49m\u001b[43m)\u001b[49m\n\u001b[0;32m      3\u001b[0m rows \u001b[38;5;241m=\u001b[39m cursor\u001b[38;5;241m.\u001b[39mfetchall()\n\u001b[0;32m      5\u001b[0m \u001b[38;5;66;03m# Print the queried data\u001b[39;00m\n",
      "\u001b[1;31mProgrammingError\u001b[0m: Cannot operate on a closed database."
     ]
    }
   ],
   "source": [
    "# Query data from the sales table\n",
    "cursor.execute('SELECT * FROM sales')\n",
    "rows = cursor.fetchall()\n",
    "\n",
    "# Print the queried data\n",
    "for row in rows:\n",
    "    print(row)\n",
    "## Error bcoz connection is closed"
   ]
  }
 ],
 "metadata": {
  "kernelspec": {
   "display_name": "Python 3",
   "language": "python",
   "name": "python3"
  },
  "language_info": {
   "codemirror_mode": {
    "name": "ipython",
    "version": 3
   },
   "file_extension": ".py",
   "mimetype": "text/x-python",
   "name": "python",
   "nbconvert_exporter": "python",
   "pygments_lexer": "ipython3",
   "version": "3.10.17"
  }
 },
 "nbformat": 4,
 "nbformat_minor": 5
}
