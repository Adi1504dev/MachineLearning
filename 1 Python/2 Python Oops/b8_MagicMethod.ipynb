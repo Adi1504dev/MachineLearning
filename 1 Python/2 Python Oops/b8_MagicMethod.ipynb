{
 "cells": [
  {
   "cell_type": "markdown",
   "id": "4cf079b4",
   "metadata": {},
   "source": [
    "### Magic method\n",
    "Magic Method in python, also known as dunder methods (double underscore methods) are special methods that starts and ends with double underscore. Thse methods enable you to define the behaviour of the objests for built-in operations , such as arithmetic operations , comparison and more\n",
    "\n",
    "They are predefined methods in python that you can override to change the behaviour of your objects. Some common magic methods includes.\n"
   ]
  },
  {
   "cell_type": "code",
   "execution_count": 1,
   "id": "22c2ba4a",
   "metadata": {},
   "outputs": [
    {
     "name": "stdout",
     "output_type": "stream",
     "text": [
      "['__class__', '__delattr__', '__dict__', '__dir__', '__doc__', '__eq__', '__format__', '__ge__', '__getattribute__', '__gt__', '__hash__', '__init__', '__init_subclass__', '__le__', '__lt__', '__module__', '__ne__', '__new__', '__reduce__', '__reduce_ex__', '__repr__', '__setattr__', '__sizeof__', '__str__', '__subclasshook__', '__weakref__']\n",
      "<__main__.Person object at 0x0000018C6FDF2320>\n"
     ]
    }
   ],
   "source": [
    "class Person:\n",
    "    pass\n",
    "person=Person()\n",
    "print(dir(person))\n",
    "print(person) # This output comes from __str__ which gives \n",
    "              # string representation of object can be overwritten"
   ]
  },
  {
   "cell_type": "code",
   "execution_count": 2,
   "id": "a3bd186f",
   "metadata": {},
   "outputs": [
    {
     "name": "stdout",
     "output_type": "stream",
     "text": [
      "['__class__', '__delattr__', '__dict__', '__dir__', '__doc__', '__eq__', '__format__', '__ge__', '__getattribute__', '__gt__', '__hash__', '__init__', '__init_subclass__', '__le__', '__lt__', '__module__', '__ne__', '__new__', '__reduce__', '__reduce_ex__', '__repr__', '__setattr__', '__sizeof__', '__str__', '__subclasshook__', '__weakref__']\n",
      "This is Person class object\n",
      "This is Person class object\n"
     ]
    }
   ],
   "source": [
    "class Person:\n",
    "    # Overwriting __str__\n",
    "    def __str__(self):\n",
    "        return \"This is Person class object\"\n",
    "person=Person()\n",
    "print(dir(person))\n",
    "print(person) # This output comes from __str__ which gives \n",
    "#you can also use\n",
    "print(str(person))"
   ]
  }
 ],
 "metadata": {
  "kernelspec": {
   "display_name": "Python 3",
   "language": "python",
   "name": "python3"
  },
  "language_info": {
   "codemirror_mode": {
    "name": "ipython",
    "version": 3
   },
   "file_extension": ".py",
   "mimetype": "text/x-python",
   "name": "python",
   "nbconvert_exporter": "python",
   "pygments_lexer": "ipython3",
   "version": "3.10.17"
  }
 },
 "nbformat": 4,
 "nbformat_minor": 5
}
