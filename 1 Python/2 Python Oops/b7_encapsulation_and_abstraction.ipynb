{
 "cells": [
  {
   "cell_type": "markdown",
   "id": "8363d49e",
   "metadata": {},
   "source": [
    "### Encapsulation\n",
    "Encapsulation is the practice of bundling data (attributes) and the methods that operate on that data into a single unit, known as a class. It also involves controlling access to the internal state of an object, preventing direct modification from outside the class. This is often achieved through access modifiers like private, public, or protected (though Python doesn't enforce them strictly like other languages).\n",
    "\n",
    "### Abstraction\n",
    "Abstraction is the process of hiding complex implementation details and exposing only the essential information and functionalities to the user. It allows developers to work with objects at a higher level, focusing on what an object does rather than how it does it."
   ]
  },
  {
   "cell_type": "markdown",
   "id": "f8ac8db0",
   "metadata": {
    "notebookRunGroups": {
     "groupValue": "1"
    }
   },
   "source": [
    "#### Encapsuation with getter setter"
   ]
  },
  {
   "cell_type": "code",
   "execution_count": 1,
   "id": "193d9389",
   "metadata": {},
   "outputs": [
    {
     "name": "stdout",
     "output_type": "stream",
     "text": [
      "Aditya\n"
     ]
    },
    {
     "data": {
      "text/plain": [
       "['__class__',\n",
       " '__delattr__',\n",
       " '__dict__',\n",
       " '__dir__',\n",
       " '__doc__',\n",
       " '__eq__',\n",
       " '__format__',\n",
       " '__ge__',\n",
       " '__getattribute__',\n",
       " '__gt__',\n",
       " '__hash__',\n",
       " '__init__',\n",
       " '__init_subclass__',\n",
       " '__le__',\n",
       " '__lt__',\n",
       " '__module__',\n",
       " '__ne__',\n",
       " '__new__',\n",
       " '__reduce__',\n",
       " '__reduce_ex__',\n",
       " '__repr__',\n",
       " '__setattr__',\n",
       " '__sizeof__',\n",
       " '__str__',\n",
       " '__subclasshook__',\n",
       " '__weakref__',\n",
       " 'age',\n",
       " 'name']"
      ]
     },
     "execution_count": 1,
     "metadata": {},
     "output_type": "execute_result"
    }
   ],
   "source": [
    "\n",
    "## Public ,protected ,private\n",
    "class Person:\n",
    "    def __init__(self, name,age):\n",
    "        self.name=name ## Public variables\n",
    "        self.age=age ## Public variables\n",
    "\n",
    "person=Person(\"Aditya\",29)\n",
    "print(person.name)\n",
    "dir(person)\n"
   ]
  },
  {
   "cell_type": "markdown",
   "id": "2e19882a",
   "metadata": {},
   "source": [
    "#### Private varible can not be accessed outside class not even in derived class"
   ]
  },
  {
   "cell_type": "code",
   "execution_count": 2,
   "id": "233f28bc",
   "metadata": {},
   "outputs": [
    {
     "name": "stdout",
     "output_type": "stream",
     "text": [
      "Aditya\n",
      "Aditya\n"
     ]
    },
    {
     "data": {
      "text/plain": [
       "['_Person__age',\n",
       " '_Person__name',\n",
       " '__class__',\n",
       " '__delattr__',\n",
       " '__dict__',\n",
       " '__dir__',\n",
       " '__doc__',\n",
       " '__eq__',\n",
       " '__format__',\n",
       " '__ge__',\n",
       " '__getattribute__',\n",
       " '__gt__',\n",
       " '__hash__',\n",
       " '__init__',\n",
       " '__init_subclass__',\n",
       " '__le__',\n",
       " '__lt__',\n",
       " '__module__',\n",
       " '__ne__',\n",
       " '__new__',\n",
       " '__reduce__',\n",
       " '__reduce_ex__',\n",
       " '__repr__',\n",
       " '__setattr__',\n",
       " '__sizeof__',\n",
       " '__str__',\n",
       " '__subclasshook__',\n",
       " '__weakref__',\n",
       " 'getName']"
      ]
     },
     "execution_count": 2,
     "metadata": {},
     "output_type": "execute_result"
    }
   ],
   "source": [
    "## Encapsuation with getter setter\n",
    "## Public ,protected ,private\n",
    "class Person:\n",
    "    def __init__(self, name,age):\n",
    "        self.__name=name ## Private variables(Using double _ in start)\n",
    "        self.__age=age ## Private variables\n",
    "\n",
    "    def getName(self): # Encapsulation\n",
    "        return self.__name\n",
    "\n",
    "person=Person(\"Aditya\",29)\n",
    "#print(person.name) #this is hidden now and says person do not have name attribute error\n",
    "#Printing using getter\n",
    "print(person.getName())\n",
    "dir(person)# List all available methods and attributes in class\n",
    "\n",
    "## See there is workaround but that is wrong- Not good practice\n",
    "print(person._Person__name)\n",
    "dir(person)# List all available methods and attributes in class\n"
   ]
  },
  {
   "cell_type": "markdown",
   "id": "bc059018",
   "metadata": {},
   "source": [
    "#### Protected Variable can not be accessed outside class but can be access in derived class"
   ]
  },
  {
   "cell_type": "code",
   "execution_count": 3,
   "id": "b3313240",
   "metadata": {},
   "outputs": [
    {
     "data": {
      "text/plain": [
       "'Aditya'"
      ]
     },
     "execution_count": 3,
     "metadata": {},
     "output_type": "execute_result"
    }
   ],
   "source": [
    "class Person:\n",
    "    def __init__(self,name,age,gender):\n",
    "        self._name=name # Protected variable can be defined using single _ before vaiable\n",
    "        self._age=age\n",
    "        self._gender=gender\n",
    "\n",
    "class Employee(Person):\n",
    "    def __init__(self , name, age, gender):\n",
    "        super().__init__(name,age,gender)\n",
    "\n",
    "employee=Employee(\"Aditya\",34,\"Male\")\n",
    "employee._name # Protect variable accessed through derived class\n"
   ]
  },
  {
   "cell_type": "code",
   "execution_count": 4,
   "id": "7eac6c77",
   "metadata": {},
   "outputs": [
    {
     "name": "stdout",
     "output_type": "stream",
     "text": [
      "Aditya\n",
      "Shobhita\n"
     ]
    }
   ],
   "source": [
    "## Encapsuation with getter setter\n",
    "\n",
    "class Person:\n",
    "    def __init__(self, name,age):\n",
    "        self.__name=name ## Private variables(Using double _ in start)\n",
    "        self.__age=age ## Private variables\n",
    "    #Getter Method\n",
    "    def getName(self): # Encapsulation\n",
    "        return self.__name\n",
    "        #Setter Method\n",
    "    def setName(self,name): # Encapsulation\n",
    "         self.__name=name\n",
    "\n",
    "person=Person(\"Aditya\",29)\n",
    "\n",
    "print(person.getName()) #Access private variable using setter\n",
    "person.setName(\"Shobhita\")\n",
    "print(person.getName())\n"
   ]
  },
  {
   "cell_type": "markdown",
   "id": "16ba1690",
   "metadata": {},
   "source": [
    "#### Abstract method\n"
   ]
  },
  {
   "cell_type": "code",
   "execution_count": 5,
   "id": "be10232b",
   "metadata": {},
   "outputs": [
    {
     "name": "stdout",
     "output_type": "stream",
     "text": [
      "Bark\n",
      "Pets loves humans\n"
     ]
    }
   ],
   "source": [
    "from abc import ABC,abstractmethod\n",
    "# Define an abstract class\n",
    "class Animal(ABC):\n",
    "    def lovesHuman(self):\n",
    "        return \"Pets loves humans\"\n",
    "    @abstractmethod\n",
    "    def sound(self):\n",
    "        pass  # This is an abstract method, no implementation here.\n",
    "\n",
    "# Concrete subclass of Animal\n",
    "class Dog(Animal):\n",
    "    \n",
    "    def sound(self):\n",
    "        return \"Bark\"  # Providing the implementation of the abstract method\n",
    "\n",
    "# Create an instance of Dog\n",
    "dog = Dog()\n",
    "print(dog.sound())  # Output: Bark\n",
    "print(dog.lovesHuman())"
   ]
  }
 ],
 "metadata": {
  "kernelspec": {
   "display_name": "Python 3",
   "language": "python",
   "name": "python3"
  },
  "language_info": {
   "codemirror_mode": {
    "name": "ipython",
    "version": 3
   },
   "file_extension": ".py",
   "mimetype": "text/x-python",
   "name": "python",
   "nbconvert_exporter": "python",
   "pygments_lexer": "ipython3",
   "version": "3.10.17"
  }
 },
 "nbformat": 4,
 "nbformat_minor": 5
}
