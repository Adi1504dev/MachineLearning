{
 "cells": [
  {
   "cell_type": "markdown",
   "id": "db9c81e9",
   "metadata": {},
   "source": [
    "### Operator Overloading methods in Python\n",
    "+ (Addition)\t__add__(self, other)\n",
    "- (Subtraction)\t__sub__(self, other)\n",
    "* (Multiplication)\t__mul__(self, other)\n",
    "/ (Division)\t__truediv__(self, other)\n",
    "% (Modulo)\t__mod__(self, other)\n",
    "** (Power)\t__pow__(self, other)\n",
    "\n",
    "< (Less than)\t__lt__(self, other)\n",
    "> (Greater than)\t__gt__(self, other)\n",
    "<= (Less than or equal to)\t__le__(self, other)\n",
    ">= (Greater than or equal to)\t__ge__(self, other)\n",
    "== (Equal)\t__eq__(self, other)\n",
    "!= (Not equal)\t__ne__(self, other)"
   ]
  },
  {
   "cell_type": "code",
   "execution_count": 1,
   "id": "d74c189f",
   "metadata": {},
   "outputs": [
    {
     "name": "stdout",
     "output_type": "stream",
     "text": [
      "Vector 8, 10\n",
      "Vector 2, 6\n",
      "Vector 15, 16\n"
     ]
    },
    {
     "ename": "TypeError",
     "evalue": "Vector.__init__() missing 1 required positional argument: 'y'",
     "output_type": "error",
     "traceback": [
      "\u001b[1;31m---------------------------------------------------------------------------\u001b[0m",
      "\u001b[1;31mTypeError\u001b[0m                                 Traceback (most recent call last)",
      "Cell \u001b[1;32mIn[1], line 20\u001b[0m\n\u001b[0;32m     18\u001b[0m \u001b[38;5;28mprint\u001b[39m(vec1\u001b[38;5;241m-\u001b[39mvec2)\n\u001b[0;32m     19\u001b[0m \u001b[38;5;28mprint\u001b[39m(vec1\u001b[38;5;241m*\u001b[39mvec2)\n\u001b[1;32m---> 20\u001b[0m \u001b[38;5;28mprint\u001b[39m(\u001b[43mvec1\u001b[49m\u001b[43m \u001b[49m\u001b[38;5;241;43m==\u001b[39;49m\u001b[43m \u001b[49m\u001b[43mvec2\u001b[49m)\n",
      "Cell \u001b[1;32mIn[1], line 12\u001b[0m, in \u001b[0;36mVector.__eq__\u001b[1;34m(self, other)\u001b[0m\n\u001b[0;32m     11\u001b[0m \u001b[38;5;28;01mdef\u001b[39;00m\u001b[38;5;250m \u001b[39m\u001b[38;5;21m__eq__\u001b[39m(\u001b[38;5;28mself\u001b[39m,other):\n\u001b[1;32m---> 12\u001b[0m     \u001b[38;5;28;01mreturn\u001b[39;00m \u001b[43mVector\u001b[49m\u001b[43m(\u001b[49m\u001b[38;5;28;43mself\u001b[39;49m\u001b[38;5;241;43m.\u001b[39;49m\u001b[43mx\u001b[49m\u001b[43m \u001b[49m\u001b[38;5;241;43m==\u001b[39;49m\u001b[43m \u001b[49m\u001b[43mother\u001b[49m\u001b[38;5;241;43m.\u001b[39;49m\u001b[43mx\u001b[49m\u001b[43m \u001b[49m\u001b[38;5;129;43;01mand\u001b[39;49;00m\u001b[43m \u001b[49m\u001b[38;5;28;43mself\u001b[39;49m\u001b[38;5;241;43m.\u001b[39;49m\u001b[43my\u001b[49m\u001b[43m \u001b[49m\u001b[38;5;241;43m==\u001b[39;49m\u001b[43m \u001b[49m\u001b[43mother\u001b[49m\u001b[38;5;241;43m.\u001b[39;49m\u001b[43my\u001b[49m\u001b[43m)\u001b[49m\n",
      "\u001b[1;31mTypeError\u001b[0m: Vector.__init__() missing 1 required positional argument: 'y'"
     ]
    }
   ],
   "source": [
    "class Vector:\n",
    "    def __init__(self,x,y):\n",
    "        self.x=x\n",
    "        self.y=y\n",
    "    def __add__(self,other):\n",
    "        return Vector(self.x+other.x,self.y+other.y)\n",
    "    def __sub__(self,other):\n",
    "        return Vector(self.x-other.x,self.y-other.y)\n",
    "    def __mul__(self,other):\n",
    "        return Vector(self.x*other.x,self.y*other.y)\n",
    "    def __eq__(self,other):\n",
    "        return Vector(self.x == other.x and self.y == other.y)\n",
    "    def __repr__(self):\n",
    "        return f\"Vector {self.x}, {self.y}\"\n",
    "vec1=Vector(5,8)\n",
    "vec2=Vector(3,2)\n",
    "print(vec1+vec2)\n",
    "print(vec1-vec2)\n",
    "print(vec1*vec2)\n",
    "print(vec1 == vec2)\n"
   ]
  },
  {
   "cell_type": "markdown",
   "id": "b1a83a10",
   "metadata": {},
   "source": [
    "##### Fixing the __eq__ method to return a boolean value"
   ]
  },
  {
   "cell_type": "code",
   "execution_count": 2,
   "id": "3331ee49",
   "metadata": {},
   "outputs": [
    {
     "name": "stdout",
     "output_type": "stream",
     "text": [
      "Vector 8, 10\n",
      "Vector 2, 6\n",
      "Vector 15, 16\n",
      "False\n"
     ]
    }
   ],
   "source": [
    "\n",
    "class Vector:\n",
    "    def __init__(self, x, y):\n",
    "        self.x = x\n",
    "        self.y = y\n",
    "    def __add__(self, other):\n",
    "        return Vector(self.x + other.x, self.y + other.y)\n",
    "    def __sub__(self, other):\n",
    "        return Vector(self.x - other.x, self.y - other.y)\n",
    "    def __mul__(self, other):\n",
    "        return Vector(self.x * other.x, self.y * other.y)\n",
    "    def __eq__(self, other):\n",
    "        return self.x == other.x and self.y == other.y\n",
    "    def __repr__(self):\n",
    "        return f\"Vector {self.x}, {self.y}\"\n",
    "\n",
    "# Redefine vec1 and vec2 with the corrected class\n",
    "vec1 = Vector(5, 8)\n",
    "vec2 = Vector(3, 2)\n",
    "print(vec1 + vec2)\n",
    "print(vec1 - vec2)\n",
    "print(vec1 * vec2)\n",
    "print(vec1 == vec2)"
   ]
  },
  {
   "cell_type": "code",
   "execution_count": null,
   "id": "0572565a",
   "metadata": {},
   "outputs": [],
   "source": []
  }
 ],
 "metadata": {
  "kernelspec": {
   "display_name": "Python 3",
   "language": "python",
   "name": "python3"
  },
  "language_info": {
   "codemirror_mode": {
    "name": "ipython",
    "version": 3
   },
   "file_extension": ".py",
   "mimetype": "text/x-python",
   "name": "python",
   "nbconvert_exporter": "python",
   "pygments_lexer": "ipython3",
   "version": "3.10.17"
  }
 },
 "nbformat": 4,
 "nbformat_minor": 5
}
