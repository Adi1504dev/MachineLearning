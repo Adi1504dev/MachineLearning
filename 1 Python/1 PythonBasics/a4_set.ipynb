{
 "cells": [
  {
   "cell_type": "markdown",
   "id": "d5c43cde",
   "metadata": {
    "notebookRunGroups": {
     "groupValue": "1"
    }
   },
   "source": [
    "### SET\n",
    " Set in python is a collection of unique elements.\n",
    " It is unordered and unindexed, meaning that the items do not have a specific order and cannot be accessed by an index.\n",
    " \n",
    " Sets are mutable, meaning you can add or remove items after the set has been created.\n",
    " \n",
    " sets are useful for membership testing, removing duplicates from a sequence, and performing mathematical operations like unions and intersections and symmetric differences.\n"
   ]
  },
  {
   "cell_type": "markdown",
   "id": "8835c8c3",
   "metadata": {
    "notebookRunGroups": {
     "groupValue": "1"
    }
   },
   "source": [
    "#### creating a set"
   ]
  },
  {
   "cell_type": "code",
   "execution_count": 1,
   "id": "bcded96e",
   "metadata": {},
   "outputs": [
    {
     "name": "stdout",
     "output_type": "stream",
     "text": [
      "{1, 2, 3, 4, 5}\n",
      "<class 'set'>\n",
      "set()\n",
      "<class 'set'>\n"
     ]
    }
   ],
   "source": [
    "\n",
    "my_set = {1, 2, 3, 4, 5}\n",
    "print(my_set)\n",
    "print(type(my_set)) # Output: <class 'set'>\n",
    "#Creating an empty set\n",
    "empty_set = set()   \n",
    "print(empty_set)  # Output: set()\n",
    "print(type(empty_set))  # Output: <class 'set'>"
   ]
  },
  {
   "cell_type": "code",
   "execution_count": 2,
   "id": "f390e72c",
   "metadata": {},
   "outputs": [
    {
     "name": "stdout",
     "output_type": "stream",
     "text": [
      "{1, 2, 3, 4, 5}\n",
      "<class 'set'>\n"
     ]
    }
   ],
   "source": [
    "my_empty_set = set([1,2,3,4,4,5])\n",
    "print(my_empty_set)  # Output: {1, 2, 3, 4, 5}\n",
    "print(type(my_empty_set))  # Output: <class 'set'>"
   ]
  },
  {
   "cell_type": "markdown",
   "id": "0b1e404a",
   "metadata": {},
   "source": [
    "#### Basic set operations"
   ]
  },
  {
   "cell_type": "code",
   "execution_count": 3,
   "id": "31d9ac5c",
   "metadata": {},
   "outputs": [
    {
     "name": "stdout",
     "output_type": "stream",
     "text": [
      "{1, 2, 3, 4, 5, 6}\n",
      "{1, 2, 4, 5, 6}\n",
      "{1, 2, 4, 5, 6}\n",
      "1\n"
     ]
    }
   ],
   "source": [
    "\n",
    "# Adding elements to a set\n",
    "my_set.add(6)\n",
    "print(my_set)  # Output: {1, 2, 3, 4, 5, 6}\n",
    "# Removing elements from a set\n",
    "my_set.remove(3)\n",
    "print(my_set)  # Output: {1, 2, 4, 5, 6}\n",
    "# Note: If you try to remove an element that is not in the set, it will raise a KeyError.\n",
    "my_set.discard(20)  # This will not raise an error if the element is not found\n",
    "print(my_set)  # Output: {1, 2, 3, 4, 5, 6}\n",
    "\n",
    "# Pop removes and returns an arbitrary element from the set\n",
    "popped_element = my_set.pop()\n",
    "print(popped_element)  # Output: An arbitrary element from the set"
   ]
  },
  {
   "cell_type": "code",
   "execution_count": 4,
   "id": "d2b88ba2",
   "metadata": {},
   "outputs": [
    {
     "name": "stdout",
     "output_type": "stream",
     "text": [
      "set()\n"
     ]
    }
   ],
   "source": [
    "# clearing a set\n",
    "my_set.clear()\n",
    "print(my_set)  # Output: set()"
   ]
  },
  {
   "cell_type": "markdown",
   "id": "f31143f3",
   "metadata": {},
   "source": [
    "##### set membership testing"
   ]
  },
  {
   "cell_type": "code",
   "execution_count": 5,
   "id": "7f7769a1",
   "metadata": {},
   "outputs": [
    {
     "name": "stdout",
     "output_type": "stream",
     "text": [
      "True\n",
      "False\n"
     ]
    }
   ],
   "source": [
    "\n",
    "my_set = {1, 2, 3, 4, 5}\n",
    "print(3 in my_set)  # Output: True\n",
    "print(6 in my_set)  # Output: False"
   ]
  },
  {
   "cell_type": "markdown",
   "id": "4c3c61f4",
   "metadata": {},
   "source": [
    "##### mathematical operations on sets"
   ]
  },
  {
   "cell_type": "code",
   "execution_count": 6,
   "id": "1e8ca633",
   "metadata": {},
   "outputs": [
    {
     "name": "stdout",
     "output_type": "stream",
     "text": [
      "{1, 2, 3, 4, 5}\n",
      "{3}\n",
      "{3}\n"
     ]
    }
   ],
   "source": [
    "\n",
    "set_a = {1, 2, 3}\n",
    "set_b = {3, 4, 5}\n",
    "# Union of two sets\n",
    "union_set = set_a.union(set_b)\n",
    "print(union_set)  # Output: {1, 2, 3, 4, 5}\n",
    "# Intersection of two sets\n",
    "intersection_set = set_a.intersection(set_b)\n",
    "print(intersection_set)  # Output: {3}\n",
    "# intersection_update modifies the set in place\n",
    "set_a.intersection_update(set_b)\n",
    "print(set_a)  # Output: {3}\n",
    "# Adding elements to set_a after intersection_update\n",
    "# Similarly, you can use the `&` operator for intersection\n"
   ]
  },
  {
   "cell_type": "code",
   "execution_count": 7,
   "id": "e707658c",
   "metadata": {},
   "outputs": [
    {
     "name": "stdout",
     "output_type": "stream",
     "text": [
      "{1, 2}\n",
      "{1, 2, 4, 5}\n"
     ]
    }
   ],
   "source": [
    "set_a = {1, 2, 3}\n",
    "set_b = {3, 4, 5}\n",
    "# Difference of two sets\n",
    "difference_set = set_a.difference(set_b)\n",
    "print(difference_set)  # Output: {1, 2}\n",
    "# Symmetric difference of two sets\n",
    "# unique elements from both sets, excluding the intersection\n",
    "symmetric_difference_set = set_a.symmetric_difference(set_b)\n",
    "print(symmetric_difference_set)  # Output: {1, 2, 4, 5}"
   ]
  },
  {
   "cell_type": "markdown",
   "id": "52341341",
   "metadata": {},
   "source": [
    "##### sets methods"
   ]
  },
  {
   "cell_type": "code",
   "execution_count": 8,
   "id": "42c03a52",
   "metadata": {},
   "outputs": [
    {
     "name": "stdout",
     "output_type": "stream",
     "text": [
      "False\n",
      "True\n",
      "False\n",
      "{1, 2, 3, 4, 5, 6}\n"
     ]
    }
   ],
   "source": [
    "\n",
    "set1 = {1, 2, 3,4,5}\n",
    "set2 = {3, 4, 5}\n",
    "set1.issubset(set2)  # Check if set1 is a subset of set2\n",
    "print(set1.issubset(set2))  # Output: False\n",
    "\n",
    "set1.issuperset(set2)  # Check if set1 is a superset of set2\n",
    "print(set1.issuperset(set2))  # Output: False\n",
    "\n",
    "set1.isdisjoint(set2)  # Check if set1 and set2 have no elements in common\n",
    "print(set1.isdisjoint(set2))  # Output: False\n",
    "\n",
    "#Removing duplicates from a list using set\n",
    "lst=[1,1,2,3,4,3,4,5,6,4,3]\n",
    "unique_set = set(lst)\n",
    "print(unique_set)  # Output: {1, 2, 3, 4, 5, 6}"
   ]
  }
 ],
 "metadata": {
  "kernelspec": {
   "display_name": "Python 3",
   "language": "python",
   "name": "python3"
  },
  "language_info": {
   "codemirror_mode": {
    "name": "ipython",
    "version": 3
   },
   "file_extension": ".py",
   "mimetype": "text/x-python",
   "name": "python",
   "nbconvert_exporter": "python",
   "pygments_lexer": "ipython3",
   "version": "3.10.17"
  }
 },
 "nbformat": 4,
 "nbformat_minor": 5
}
