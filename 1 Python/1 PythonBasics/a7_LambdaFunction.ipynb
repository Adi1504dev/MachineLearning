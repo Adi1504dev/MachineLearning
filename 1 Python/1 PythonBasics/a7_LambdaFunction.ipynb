{
 "cells": [
  {
   "cell_type": "markdown",
   "id": "2129b8ea",
   "metadata": {},
   "source": [
    "### Lambda Functions\n",
    "Lambda function are small anonymus function defined using lambda keyword. They are used for shot operation they can have any number of aruguments but only one expression"
   ]
  },
  {
   "cell_type": "markdown",
   "id": "d10f08cb",
   "metadata": {},
   "source": [
    "#### Syntax"
   ]
  },
  {
   "cell_type": "code",
   "execution_count": null,
   "id": "4cbddb49",
   "metadata": {},
   "outputs": [],
   "source": [
    "\n",
    "Lambda arguments: expression"
   ]
  },
  {
   "cell_type": "code",
   "execution_count": 1,
   "id": "cb0b2c38",
   "metadata": {},
   "outputs": [
    {
     "name": "stdout",
     "output_type": "stream",
     "text": [
      "3\n"
     ]
    }
   ],
   "source": [
    "print((lambda x: x + 1)(2))  # Output: 3"
   ]
  },
  {
   "cell_type": "code",
   "execution_count": 2,
   "id": "531f4736",
   "metadata": {},
   "outputs": [
    {
     "name": "stdout",
     "output_type": "stream",
     "text": [
      "<class 'function'>\n",
      "5\n"
     ]
    }
   ],
   "source": [
    "addition = lambda x, y: x + y\n",
    "print(type(addition))  # Output: <class 'function'>\n",
    "print(addition(2, 3))  # Output: 5"
   ]
  },
  {
   "cell_type": "code",
   "execution_count": 3,
   "id": "91690e0a",
   "metadata": {},
   "outputs": [
    {
     "name": "stdout",
     "output_type": "stream",
     "text": [
      "True\n"
     ]
    }
   ],
   "source": [
    "even1=lambda x: x % 2 == 0\n",
    "print(even1(4))  # Output: True"
   ]
  },
  {
   "cell_type": "markdown",
   "id": "0d133e18",
   "metadata": {},
   "source": [
    "#### Lambda with map"
   ]
  },
  {
   "cell_type": "code",
   "execution_count": 4,
   "id": "c8115cc4",
   "metadata": {},
   "outputs": [
    {
     "name": "stdout",
     "output_type": "stream",
     "text": [
      "[1, 4, 9, 16, 25]\n"
     ]
    }
   ],
   "source": [
    "\n",
    "numbers = [1, 2, 3, 4, 5]\n",
    "numbers_squared = list(map(lambda x: x ** 2, numbers))\n",
    "print(numbers_squared)  # Output: [1, 4, 9, 16, 25]"
   ]
  },
  {
   "cell_type": "markdown",
   "id": "98d48b33",
   "metadata": {},
   "source": [
    "#### Map Function\n"
   ]
  },
  {
   "cell_type": "code",
   "execution_count": 5,
   "id": "b0ea1d0f",
   "metadata": {},
   "outputs": [
    {
     "name": "stdout",
     "output_type": "stream",
     "text": [
      "[1, 8, 27, 64, 125]\n"
     ]
    }
   ],
   "source": [
    "# The map function applies the lambda function to each element in the list.\n",
    "# The result is a map object, which we convert to a list.\n",
    "\n",
    "def square(x):\n",
    "    return x ** 3\n",
    "numbers_cube = list(map(square, numbers))\n",
    "print(numbers_cube)  # Output: [1, 4, 9, 16, 25]"
   ]
  },
  {
   "cell_type": "markdown",
   "id": "5f686440",
   "metadata": {},
   "source": [
    "##### Map with multiple arguments"
   ]
  },
  {
   "cell_type": "code",
   "execution_count": 6,
   "id": "cf2cc99e",
   "metadata": {},
   "outputs": [
    {
     "name": "stdout",
     "output_type": "stream",
     "text": [
      "[5, 7, 9]\n",
      "[5, 7, 9]\n"
     ]
    }
   ],
   "source": [
    "\n",
    "def add(x, y):\n",
    "    return x + y\n",
    "numbers1 = [1, 2, 3]\n",
    "numbers2 = [4, 5, 6]\n",
    "numbers_sum = list(map(add, numbers1, numbers2))\n",
    "print(numbers_sum)  # Output: [5, 7, 9]\n",
    "# Map with multiple arguments using lambda\n",
    "numbers_sum_lambda = list(map(lambda x, y: x + y, numbers1, numbers2))\n",
    "print(numbers_sum_lambda)  # Output: [5, 7, 9]\n"
   ]
  },
  {
   "cell_type": "markdown",
   "id": "2f019bcb",
   "metadata": {},
   "source": [
    "###### Map Examples"
   ]
  },
  {
   "cell_type": "code",
   "execution_count": 7,
   "id": "e6fd3dca",
   "metadata": {},
   "outputs": [
    {
     "name": "stdout",
     "output_type": "stream",
     "text": [
      "['HELLO', 'WORLD', 'PYTHON']\n",
      "[1, 2, 3, 4, 5]\n"
     ]
    }
   ],
   "source": [
    "#Convert a list of strings to uppercase using map\n",
    "words = ['hello', 'world', 'python']\n",
    "words_upper = list(map(str.upper, words))\n",
    "print(words_upper)  # Output: ['HELLO', 'WORLD', 'PYTHON']\n",
    "\n",
    "\n",
    "#Convert to integers using map\n",
    "numbers_str = ['1', '2', '3', '4', '5']\n",
    "numbers_int = list(map(int, numbers_str))\n",
    "print(numbers_int)  # Output: [1, 2, 3, 4, 5]"
   ]
  },
  {
   "cell_type": "markdown",
   "id": "ca6fc4de",
   "metadata": {},
   "source": [
    "#### Filter\n",
    " Filter function is used to filter elements from a list based on a condition.\n"
   ]
  },
  {
   "cell_type": "code",
   "execution_count": 8,
   "id": "fe8140ee",
   "metadata": {},
   "outputs": [
    {
     "name": "stdout",
     "output_type": "stream",
     "text": [
      "[2, 4, 6]\n"
     ]
    }
   ],
   "source": [
    "def is_even(x):\n",
    "    return x % 2 == 0\n",
    "numbers = [1, 2, 3, 4, 5, 6]\n",
    "even_numbers = list(filter(is_even, numbers))\n",
    "print(even_numbers)  # Output: [2, 4, 6]"
   ]
  },
  {
   "cell_type": "markdown",
   "id": "b6a6a277",
   "metadata": {},
   "source": [
    "#### Using lambda with filter"
   ]
  },
  {
   "cell_type": "code",
   "execution_count": 9,
   "id": "da7151d3",
   "metadata": {},
   "outputs": [
    {
     "name": "stdout",
     "output_type": "stream",
     "text": [
      "[2, 4, 6]\n"
     ]
    }
   ],
   "source": [
    "\n",
    "even_nmeber_lambda=list(filter(lambda x:x%2==0,numbers ))\n",
    "print(even_nmeber_lambda)  # Output: [2, 4, 6]"
   ]
  },
  {
   "cell_type": "markdown",
   "id": "ba315cdd",
   "metadata": {},
   "source": [
    "##### Filter Example"
   ]
  },
  {
   "cell_type": "code",
   "execution_count": 10,
   "id": "0631a2b5",
   "metadata": {},
   "outputs": [
    {
     "name": "stdout",
     "output_type": "stream",
     "text": [
      "[{'name': 'Alice', 'age': 30}, {'name': 'David', 'age': 35}]\n"
     ]
    }
   ],
   "source": [
    "#Filtering with Age > 25 from dictionary\n",
    "people = [\n",
    "    {'name': 'Alice', 'age': 30},\n",
    "    {'name': 'Bob', 'age': 20},\n",
    "    {'name': 'Charlie', 'age': 25},\n",
    "    {'name': 'David', 'age': 35} ]\n",
    "adults = list(filter(lambda person: person['age'] > 25, people))\n",
    "print(adults)  # Output: [{'name': 'Alice', 'age': 30}, {'name': 'David', 'age': 35}]"
   ]
  }
 ],
 "metadata": {
  "kernelspec": {
   "display_name": "Python 3",
   "language": "python",
   "name": "python3"
  },
  "language_info": {
   "codemirror_mode": {
    "name": "ipython",
    "version": 3
   },
   "file_extension": ".py",
   "mimetype": "text/x-python",
   "name": "python",
   "nbconvert_exporter": "python",
   "pygments_lexer": "ipython3",
   "version": "3.10.17"
  }
 },
 "nbformat": 4,
 "nbformat_minor": 5
}
