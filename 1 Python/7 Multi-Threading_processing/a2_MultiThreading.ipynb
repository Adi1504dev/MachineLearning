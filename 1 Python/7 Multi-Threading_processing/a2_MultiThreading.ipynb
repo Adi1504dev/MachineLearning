{
 "cells": [
  {
   "cell_type": "code",
   "execution_count": 13,
   "id": "69c163fe",
   "metadata": {},
   "outputs": [
    {
     "name": "stdout",
     "output_type": "stream",
     "text": [
      "number 0\n",
      "number 1\n",
      "number 2\n",
      "number 3\n",
      "number 4\n",
      "alphabet a\n",
      "alphabet b\n",
      "alphabet c\n",
      "alphabet d\n",
      "alphabet e\n",
      "finished time 0:00:15.070459\n"
     ]
    }
   ],
   "source": [
    "import threading\n",
    "from datetime import datetime\n",
    "import time\n",
    "\n",
    "def print_numbers():\n",
    "    for i in range(5):\n",
    "        time.sleep(2)\n",
    "        print(f\"number {i}\")\n",
    "\n",
    "def print_letter():\n",
    "    for i in \"abcde\":\n",
    "        time.sleep(1)\n",
    "        print(f\"alphabet {i}\")\n",
    "t=datetime.now()\n",
    "print_numbers()\n",
    "print_letter() \n",
    "finished_time=datetime.now()-t\n",
    "print(f\"finished time {finished_time}\")"
   ]
  },
  {
   "cell_type": "markdown",
   "id": "025ab1f4",
   "metadata": {},
   "source": [
    "#### Creating Threading"
   ]
  },
  {
   "cell_type": "code",
   "execution_count": 14,
   "id": "97c7e64a",
   "metadata": {},
   "outputs": [
    {
     "name": "stdout",
     "output_type": "stream",
     "text": [
      "alphabet a\n",
      "number 0alphabet b\n",
      "\n",
      "alphabet c\n",
      "number 1\n",
      "alphabet d\n",
      "alphabet e\n",
      "number 2\n",
      "number 3\n",
      "number 4\n",
      "finished time 0:00:10.038326\n"
     ]
    }
   ],
   "source": [
    "## Creating threads\n",
    "# U should not call method in thread as below\n",
    "# This calls the function immediately and passes its return value (which is None) as the target\n",
    "#t1=threading.Thread(target=print_letter())\n",
    "#t2=threading.Thread(target=print_numbers())\n",
    "\n",
    "t1=threading.Thread(target=print_letter)\n",
    "t2=threading.Thread(target=print_numbers)\n",
    "\n",
    "t=datetime.now()\n",
    "## Start the threads\n",
    "t1.start()\n",
    "t2.start()\n",
    "\n",
    "## Joining Thread to main thread so main thread wait for it \n",
    "t1.join()\n",
    "t2.join()\n",
    "\n",
    "finished_time=datetime.now()-t\n",
    "print(f\"finished time {finished_time}\")\n"
   ]
  }
 ],
 "metadata": {
  "kernelspec": {
   "display_name": "Python 3",
   "language": "python",
   "name": "python3"
  },
  "language_info": {
   "codemirror_mode": {
    "name": "ipython",
    "version": 3
   },
   "file_extension": ".py",
   "mimetype": "text/x-python",
   "name": "python",
   "nbconvert_exporter": "python",
   "pygments_lexer": "ipython3",
   "version": "3.10.17"
  }
 },
 "nbformat": 4,
 "nbformat_minor": 5
}
