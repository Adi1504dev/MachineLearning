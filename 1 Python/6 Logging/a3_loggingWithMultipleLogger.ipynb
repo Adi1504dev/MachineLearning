{
 "cells": [
  {
   "cell_type": "markdown",
   "id": "9a5eadee",
   "metadata": {},
   "source": [
    "### Logging with multiple Logger"
   ]
  },
  {
   "cell_type": "markdown",
   "id": "21b2640e",
   "metadata": {
    "notebookRunGroups": {
     "groupValue": "1"
    }
   },
   "source": [
    "#### Creating Loggers"
   ]
  },
  {
   "cell_type": "code",
   "execution_count": null,
   "id": "8b5da9ed",
   "metadata": {},
   "outputs": [],
   "source": [
    "import logging\n",
    "## Setting logging level to WARNING\n",
    "logging.basicConfig(\n",
    "    format='%(asctime)s -%(name)s - %(levelname)s - %(message)s',# Format Log\n",
    "    datefmt= '%Y-%m-%d %H:%M:%S',# setting Date format\n",
    "    force=True,\n",
    "    handlers=[\n",
    "        logging.FileHandler(\"app2.log\",mode='w'), # You can also configure file name like this\n",
    "        #Remember both loggers will not overwrite only first time it will overwrite\n",
    "        logging.StreamHandler() # So that my log may flow as stream to log file\n",
    "\n",
    "    ]\n",
    ")\n",
    "\n",
    "\n",
    "logger1=logging.getLogger(\"Module1\")  #Module name has to be different for both loggers\n",
    "logger1.setLevel(logging.DEBUG)\n",
    "\n",
    "logger2=logging.getLogger(\"Module2\")\n",
    "logger2.setLevel(logging.WARNING)\n",
    "\n",
    "\n",
    "\n",
    "\n",
    "\n"
   ]
  },
  {
   "cell_type": "markdown",
   "id": "e605d844",
   "metadata": {},
   "source": [
    "##### Using logger 1"
   ]
  },
  {
   "cell_type": "code",
   "execution_count": 28,
   "id": "1bd62656",
   "metadata": {},
   "outputs": [
    {
     "name": "stderr",
     "output_type": "stream",
     "text": [
      "2025-06-29 19:42:25 -Module1 - DEBUG - This Debug Message\n",
      "2025-06-29 19:42:25 -Module1 - INFO - This Info Message\n",
      "2025-06-29 19:42:25 -Module1 - WARNING - This Warning Message\n",
      "2025-06-29 19:42:25 -Module1 - ERROR - This Error Message\n",
      "2025-06-29 19:42:25 -Module1 - CRITICAL - This Critical Message\n"
     ]
    }
   ],
   "source": [
    "\n",
    "# Log Messages\n",
    "# Here we can see module names as well\n",
    "logger1.debug(\"This Debug Message\")\n",
    "logger1.info(\"This Info Message\")\n",
    "logger1.warning(\"This Warning Message\")\n",
    "logger1.error(\"This Error Message\")\n",
    "logger1.critical(\"This Critical Message\")"
   ]
  },
  {
   "cell_type": "markdown",
   "id": "fe9f0fed",
   "metadata": {},
   "source": [
    "##### Using Logger 2"
   ]
  },
  {
   "cell_type": "code",
   "execution_count": 31,
   "id": "96762859",
   "metadata": {},
   "outputs": [
    {
     "name": "stderr",
     "output_type": "stream",
     "text": [
      "2025-06-29 19:42:52 -Module2 - WARNING - This Warning Message\n",
      "2025-06-29 19:42:52 -Module2 - ERROR - This Error Message\n",
      "2025-06-29 19:42:52 -Module2 - CRITICAL - This Critical Message\n"
     ]
    }
   ],
   "source": [
    "\n",
    "# Log Messages\n",
    "logger2.debug(\"This Debug Message\")\n",
    "logger2.info(\"This Info Message\")\n",
    "logger2.warning(\"This Warning Message\")\n",
    "logger2.error(\"This Error Message\")\n",
    "logger2.critical(\"This Critical Message\")"
   ]
  }
 ],
 "metadata": {
  "kernelspec": {
   "display_name": "Python 3",
   "language": "python",
   "name": "python3"
  },
  "language_info": {
   "codemirror_mode": {
    "name": "ipython",
    "version": 3
   },
   "file_extension": ".py",
   "mimetype": "text/x-python",
   "name": "python",
   "nbconvert_exporter": "python",
   "pygments_lexer": "ipython3",
   "version": "3.10.17"
  }
 },
 "nbformat": 4,
 "nbformat_minor": 5
}
