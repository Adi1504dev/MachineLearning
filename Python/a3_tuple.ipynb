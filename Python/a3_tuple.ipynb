{
 "cells": [
  {
   "cell_type": "markdown",
   "id": "f957a7e7",
   "metadata": {
    "notebookRunGroups": {
     "groupValue": "1"
    }
   },
   "source": [
    "### Tuple\n",
    "Tuples are immutable sequences in Python. They are similar to lists, but they cannot be changed after creation.\n",
    "Tuples are defined by enclosing the elements in parentheses."
   ]
  },
  {
   "cell_type": "markdown",
   "id": "227e34c0",
   "metadata": {
    "notebookRunGroups": {
     "groupValue": "1"
    }
   },
   "source": [
    "#### Creating a tuple with elements"
   ]
  },
  {
   "cell_type": "code",
   "execution_count": null,
   "id": "9d47febf",
   "metadata": {},
   "outputs": [
    {
     "name": "stdout",
     "output_type": "stream",
     "text": [
      "()\n",
      "<class 'tuple'>\n"
     ]
    }
   ],
   "source": [
    "\n",
    "tpl=tuple()\n",
    "print(tpl)  # Output: ()\n",
    "print(type(tpl))  # Output: <class 'tuple'>\n"
   ]
  },
  {
   "cell_type": "markdown",
   "id": "f5d8d99b",
   "metadata": {},
   "source": [
    "#### List can be converted to tuple"
   ]
  },
  {
   "cell_type": "code",
   "execution_count": null,
   "id": "bf962045",
   "metadata": {},
   "outputs": [
    {
     "name": "stdout",
     "output_type": "stream",
     "text": [
      "(1, 2, 3, 4, 5)\n",
      "<class 'list'>\n"
     ]
    }
   ],
   "source": [
    "\n",
    "lst = [1, 2, 3, 4, 5]\n",
    "tpl_from_list = tuple(lst)\n",
    "print(tpl_from_list)  # Output: (1, 2, 3, 4, 5)\n",
    "\n",
    "print(type(list((1,2,3,4))))"
   ]
  },
  {
   "cell_type": "markdown",
   "id": "7adeeab6",
   "metadata": {},
   "source": [
    "#### Mixing data types in a tuple"
   ]
  },
  {
   "cell_type": "code",
   "execution_count": 6,
   "id": "123cfb0c",
   "metadata": {},
   "outputs": [
    {
     "name": "stdout",
     "output_type": "stream",
     "text": [
      "(1, 'Hello', 3.14, True)\n"
     ]
    }
   ],
   "source": [
    "# Mixing data types in a tuple\n",
    "mixed_tuple = (1, \"Hello\", 3.14, True)\n",
    "print(mixed_tuple)  # Output: (1, 'Hello', 3.14, True)"
   ]
  },
  {
   "cell_type": "markdown",
   "id": "a8da0a9a",
   "metadata": {},
   "source": [
    "#### Accessing elements in a tuple"
   ]
  },
  {
   "cell_type": "code",
   "execution_count": null,
   "id": "672edf25",
   "metadata": {},
   "outputs": [
    {
     "name": "stdout",
     "output_type": "stream",
     "text": [
      "1\n",
      "Hello\n",
      "True\n"
     ]
    }
   ],
   "source": [
    "\n",
    "print(mixed_tuple[0])  # Output: 1\n",
    "print(mixed_tuple[1])  # Output: Hello\n",
    "print(mixed_tuple[-1])  # Output: True"
   ]
  },
  {
   "cell_type": "markdown",
   "id": "46e89fee",
   "metadata": {},
   "source": [
    "#### Similar sclicing as in lists"
   ]
  },
  {
   "cell_type": "code",
   "execution_count": null,
   "id": "8f50f26f",
   "metadata": {},
   "outputs": [
    {
     "name": "stdout",
     "output_type": "stream",
     "text": [
      "('Hello', 3.14)\n",
      "(1, (2, 3), (4, 5, 6))\n",
      "2\n",
      "5\n",
      "1\n",
      "2\n",
      "3\n",
      "(42,)\n",
      "Error: 'tuple' object does not support item assignment\n",
      "(1, 2, 3, 4, 5, 6)\n",
      "(1, 2, 3, 1, 2, 3, 1, 2, 3)\n",
      "True\n",
      "False\n",
      "3\n",
      "1\n",
      "1\n",
      "[1, 2, 3]\n",
      "123\n",
      "value1\n",
      "1\n",
      "Hello\n",
      "3.14\n",
      "True\n",
      "1\n",
      "Hello\n",
      "3.14\n",
      "True\n",
      "Point(x=10, y=20)\n",
      "10\n",
      "20\n",
      "{'x': 10, 'y': 20}\n",
      "10\n",
      "20\n",
      "5\n",
      "10\n",
      "5.0\n",
      "None\n",
      "None\n",
      "Cannot divide by zero\n",
      "(1, 2, 3)\n",
      "1\n",
      "2\n",
      "3\n",
      "4\n",
      "5\n",
      "name: Alice\n",
      "age: 30\n",
      "city: New York\n"
     ]
    }
   ],
   "source": [
    "\n",
    "print(mixed_tuple[1:3])  # Output: ('Hello', 3.14)\n",
    "# Tuples can be nested\n",
    "nested_tuple = (1, (2, 3), (4, 5, 6))\n",
    "print(nested_tuple)  # Output: (1, (2, 3), (4, 5, 6))   \n",
    "# Accessing nested tuple elements\n",
    "print(nested_tuple[1][0])  # Output: 2  \n",
    "print(nested_tuple[2][1])  # Output: 5  \n",
    "# Tuple unpacking\n",
    "a, b, c = (1, 2, 3)\n",
    "print(a)  # Output: 1\n",
    "print(b)  # Output: 2\n",
    "print(c)  # Output: 3\n",
    "\n",
    "# Tuple with a single element (note the comma)\n",
    "single_element_tuple = (42,)    \n",
    "print(single_element_tuple)  # Output: (42,)\n",
    "# Attempting to modify a tuple (will raise an error)\n",
    "try:\n",
    "    mixed_tuple[0] = 100  # This will raise a TypeError\n",
    "except TypeError as e:\n",
    "    print(f\"Error: {e}\")\n",
    "# Concatenating tuples\n",
    "\n",
    "tpl1 = (1, 2, 3)\n",
    "tpl2 = (4, 5, 6)\n",
    "tpl_concatenated = tpl1 + tpl2\n",
    "print(tpl_concatenated)  # Output: (1, 2, 3, 4, 5, 6)\n",
    "# Repeating tuples\n",
    "tpl_repeated = tpl1 * 3\n",
    "print(tpl_repeated)  # Output: (1, 2, 3, 1, 2, 3, 1, 2, 3)\n",
    "# Checking if an element exists in a tuple\n",
    "print(2 in tpl1)  # Output: True   \n",
    "print(7 in tpl1)  # Output: False\n",
    "# Getting the length of a tuple\n",
    "print(len(tpl1))  # Output: 3\n",
    "# Finding the index of an element in a tuple   \n",
    "print(tpl1.index(2))  # Output: 1\n",
    "# Counting occurrences of an element in a tuple\n",
    "print(tpl1.count(2))  # Output: 1\n",
    "# Converting a tuple to a list\n",
    "tpl_to_list = list(tpl1)\n",
    "print(tpl_to_list)  # Output: [1, 2, 3]\n",
    "# Converting a tuple to a string\n",
    "tpl_to_string = ''.join(map(str, tpl1)) \n",
    "print(tpl_to_string)  # Output: '123'\n",
    "# Using tuples as dictionary keys\n",
    "dict_with_tuple_keys = { (1, 2): \"value1\", (3, 4): \"value2\" }   \n",
    "print(dict_with_tuple_keys[(1, 2)])  # Output: value1\n",
    "# Iterating through a tuple \n",
    "for item in mixed_tuple:\n",
    "    print(item)  # Output: 1, Hello, 3.14, True (each on a new line)\n",
    "# Using tuple as a function argument\n",
    "def print_tuple_elements(*args):\n",
    "    for arg in args:\n",
    "        print(arg)\n",
    "print_tuple_elements(*mixed_tuple)  # Output: 1, Hello, 3.14, True (each on a new line) \n",
    "# Using named tuples for better readability\n",
    "from collections import namedtuple\n",
    "Point = namedtuple('Point', ['x', 'y'])\n",
    "point = Point(10, 20)  \n",
    "print(point)  # Output: Point(x=10, y=20)\n",
    "print(point.x)  # Output: 10\n",
    "print(point.y)  # Output: 20\n",
    "# Named tuples can be converted to dictionaries\n",
    "point_dict = point._asdict()\n",
    "print(point_dict)  # Output: {'x': 10, 'y': 20}\n",
    "# Named tuples can also be unpacked\n",
    "x, y = point\n",
    "print(x)  # Output: 10\n",
    "print(y)  # Output: 20\n",
    "# Using tuples for function return values\n",
    "def get_coordinates():\n",
    "    return (5, 10)\n",
    "x, y = get_coordinates()\n",
    "print(x)  # Output: 5\n",
    "print(y)  # Output: 10\n",
    "# Using tuples for multiple return values\n",
    "def divide(a, b):\n",
    "    if b == 0:\n",
    "        return None, \"Cannot divide by zero\"\n",
    "    return a / b, None\n",
    "result, error = divide(10, 2)\n",
    "print(result)  # Output: 5.0\n",
    "print(error)  # Output: None\n",
    "result, error = divide(10, 0)\n",
    "print(result)  # Output: None\n",
    "print(error)  # Output: Cannot divide by zero\n",
    "# Using tuples for fixed-size collections\n",
    "fixed_size_tuple = (1, 2, 3)    \n",
    "print(fixed_size_tuple)  # Output: (1, 2, 3)\n",
    "# Using tuples for function arguments with variable length\n",
    "def variable_length_args(*args):\n",
    "    for arg in args:\n",
    "        print(arg)\n",
    "variable_length_args(1, 2, 3, 4, 5)  # Output: 1, 2, 3, 4, 5 (each on a new line)\n",
    "# Using tuples for function arguments with keyword arguments\n",
    "def keyword_args(**kwargs):\n",
    "    for key, value in kwargs.items():\n",
    "        print(f\"{key}: {value}\")\n",
    "keyword_args(name=\"Alice\", age=30, city=\"New York\")\n",
    "# Output:\n",
    "# name: Alice\n",
    "\n",
    "# age: 30\n",
    "# city: New York\n",
    "\n"
   ]
  },
  {
   "cell_type": "markdown",
   "id": "7f50d30f",
   "metadata": {},
   "source": [
    "#### Packing and unpacking tuples"
   ]
  },
  {
   "cell_type": "code",
   "execution_count": null,
   "id": "027a0620",
   "metadata": {},
   "outputs": [
    {
     "name": "stdout",
     "output_type": "stream",
     "text": [
      "a: 1, b: 2, c: 3\n",
      "a: 1, b: [2, 3, 4, 5], c: 6\n"
     ]
    }
   ],
   "source": [
    "\n",
    "def pack_unpack_example():\n",
    "    packed_tuple = (1, 2, 3)\n",
    "    a, b, c = packed_tuple  # Unpacking\n",
    "    print(f\"a: {a}, b: {b}, c: {c}\")  # Output: a: 1, b: 2, c: 3\n",
    "pack_unpack_example()\n",
    "\n",
    "# Unpacking with asteris\n",
    "packed_tuple = (1, 2, 3, 4, 5, 6)\n",
    "a, *b, c = packed_tuple  # Unpacking with asterisk\n",
    "print(f\"a: {a}, b: {b}, c: {c}\")  # Output: a: 1, b: [2, 3, 4, 5], c: 6\n",
    "# b is a list containing the middle elements of the tuple.\n",
    "\n"
   ]
  }
 ],
 "metadata": {
  "kernelspec": {
   "display_name": "Python 3",
   "language": "python",
   "name": "python3"
  },
  "language_info": {
   "codemirror_mode": {
    "name": "ipython",
    "version": 3
   },
   "file_extension": ".py",
   "mimetype": "text/x-python",
   "name": "python",
   "nbconvert_exporter": "python",
   "pygments_lexer": "ipython3",
   "version": "3.10.17"
  }
 },
 "nbformat": 4,
 "nbformat_minor": 5
}
