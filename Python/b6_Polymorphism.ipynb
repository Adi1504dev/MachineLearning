{
 "cells": [
  {
   "cell_type": "markdown",
   "id": "993f04b1",
   "metadata": {},
   "source": [
    "## Polymorphism\n",
    "### Method Overriding\n",
    "Method Overriding allows child class to provide specific implementation of a method that is already defined in its parent class"
   ]
  },
  {
   "cell_type": "code",
   "execution_count": null,
   "id": "41da2c50",
   "metadata": {},
   "outputs": [
    {
     "name": "stdout",
     "output_type": "stream",
     "text": [
      "woof!!\n",
      "meow!!\n"
     ]
    }
   ],
   "source": [
    "# Parent class\n",
    "class Animal:\n",
    "    def speak(self):\n",
    "        return \"Sound of Animal\"\n",
    "    \n",
    "# Derived class\n",
    "class Dog(Animal):\n",
    "    def speak(self):\n",
    "        return \"woof!!\"\n",
    "    \n",
    "# Derived class\n",
    "class Cat(Animal):\n",
    "    def speak(self):\n",
    "        return \"meow!!\"\n",
    "\n",
    "dog=Dog()\n",
    "print(dog.speak()) #woof!!\n",
    "cat=Cat()\n",
    "print(cat.speak()) #meow!!"
   ]
  },
  {
   "cell_type": "markdown",
   "id": "d5b513d4",
   "metadata": {},
   "source": [
    "#### Polymorphisms with function and methods"
   ]
  },
  {
   "cell_type": "code",
   "execution_count": null,
   "id": "5dfa0df0",
   "metadata": {},
   "outputs": [
    {
     "name": "stdout",
     "output_type": "stream",
     "text": [
      "The Area is 6\n",
      "The Area is 28.259999999999998\n"
     ]
    }
   ],
   "source": [
    "\n",
    "## base Class\n",
    "\n",
    "class Shape:\n",
    "    def area(self):\n",
    "        return \"Area of shape\"\n",
    "    \n",
    "class Rectangle(Shape):\n",
    "    def __init__(self,width,hieght):\n",
    "        self.width=width\n",
    "        self.hieght=hieght\n",
    "    def area(self):\n",
    "        return self.width * self.hieght\n",
    "    \n",
    "class Circle(Shape):\n",
    "    def __init__(self,radius):\n",
    "        self.radius=radius\n",
    "\n",
    "    def area(self):\n",
    "        return 3.14 * self.radius * self.radius\n",
    "\n",
    "#public method\n",
    "def printArea(shape):\n",
    "    print(f\"The Area is {shape.area()}\")\n",
    "\n",
    "ractangle=Rectangle(2,3)\n",
    "printArea(ractangle)\n",
    "circle=Circle(3)\n",
    "printArea(circle)\n"
   ]
  },
  {
   "cell_type": "markdown",
   "id": "9bd611ae",
   "metadata": {},
   "source": [
    "### Abstract Base Class(Interface)\n",
    "These are used to define common method for a group of related object . They enforce that derived classed implements purticular methods , promoting consistencey across differenct implementation"
   ]
  },
  {
   "cell_type": "code",
   "execution_count": null,
   "id": "8ca1bd43",
   "metadata": {},
   "outputs": [
    {
     "data": {
      "text/plain": [
       "'Motorcycle engine started'"
      ]
     },
     "execution_count": 7,
     "metadata": {},
     "output_type": "execute_result"
    }
   ],
   "source": [
    "from abc import ABC,abstractmethod\n",
    "\n",
    "# Define Abstract class\n",
    "class Vehical(ABC):\n",
    "    @abstractmethod\n",
    "    def startEngine(self):\n",
    "        pass\n",
    "\n",
    "#Derived Class\n",
    "class Car(Vehical):\n",
    "    def startEngine(self): # Start Engine need to be defined\n",
    "        return \"car engine started\"\n",
    "\n",
    "#Derived Class\n",
    "class MotorCycle(Vehical):\n",
    "    def startEngine(self): # Start Engine need to be defined\n",
    "        return \"Motorcycle engine started\"\n",
    "\n",
    "## Create objects of car and motorcycle\n",
    "motocycles=MotorCycle()\n",
    "car=Car()\n",
    "car.startEngine()\n",
    "motocycles.startEngine()\n",
    "\n",
    "    "
   ]
  }
 ],
 "metadata": {
  "kernelspec": {
   "display_name": "Python 3",
   "language": "python",
   "name": "python3"
  },
  "language_info": {
   "codemirror_mode": {
    "name": "ipython",
    "version": 3
   },
   "file_extension": ".py",
   "mimetype": "text/x-python",
   "name": "python",
   "nbconvert_exporter": "python",
   "pygments_lexer": "ipython3",
   "version": "3.10.17"
  }
 },
 "nbformat": 4,
 "nbformat_minor": 5
}
