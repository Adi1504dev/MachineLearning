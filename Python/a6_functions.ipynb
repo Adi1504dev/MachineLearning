{
 "cells": [
  {
   "cell_type": "code",
   "execution_count": 2,
   "id": "86b8bd6d",
   "metadata": {},
   "outputs": [
    {
     "name": "stdout",
     "output_type": "stream",
     "text": [
      "Hello, Alice! Welcome to the Python world.\n"
     ]
    }
   ],
   "source": [
    "# Function is a block of code that performs a specific task.\n",
    "# It can take inputs, process them, and return outputs.\n",
    "def greet(name):\n",
    "    \"\"\"\n",
    "    This function takes a name as input and prints a greeting message.\n",
    "    \n",
    "    :param name: str - The name of the person to greet\n",
    "    \"\"\"\n",
    "    print(f\"Hello, {name}! Welcome to the Python world.\")\n",
    "# Example usage of the greet function   \n",
    "greet(\"Alice\")"
   ]
  },
  {
   "cell_type": "code",
   "execution_count": 4,
   "id": "055c2cc3",
   "metadata": {},
   "outputs": [
    {
     "name": "stdout",
     "output_type": "stream",
     "text": [
      "The square of 4 is 16.\n"
     ]
    }
   ],
   "source": [
    "#Funtion to calculate the square of a number\n",
    "def square(number):\n",
    "    \"\"\"\n",
    "    This function takes a number and returns its square.\n",
    "    \n",
    "    :param number: int or float - The number to be squared\n",
    "    :return: int or float - The square of the input number\n",
    "    \"\"\"\n",
    "    return number ** 2\n",
    "# Example usage of the square function\n",
    "result = square(4)\n",
    "print(f\"The square of 4 is {result}.\")"
   ]
  },
  {
   "cell_type": "code",
   "execution_count": 5,
   "id": "e3fdd197",
   "metadata": {},
   "outputs": [
    {
     "name": "stdout",
     "output_type": "stream",
     "text": [
      "5 multiplied by default value 2 is 10.\n"
     ]
    }
   ],
   "source": [
    "#Funtions with default parameters\n",
    "def multiply(a, b=2):\n",
    "    \"\"\"\n",
    "    This function multiplies two numbers. The second number has a default value of 2.\n",
    "    \n",
    "    :param a: int or float - The first number\n",
    "    :param b: int or float - The second number (default is 2)\n",
    "    :return: int or float - The product of a and b\n",
    "    \"\"\"\n",
    "    return a * b   \n",
    "# Example usage of the multiply function\n",
    "result = multiply(5)\n",
    "print(f\"5 multiplied by default value 2 is {result}.\")"
   ]
  },
  {
   "cell_type": "code",
   "execution_count": 7,
   "id": "c49288b3",
   "metadata": {},
   "outputs": [
    {
     "name": "stdout",
     "output_type": "stream",
     "text": [
      "The sum of the numbers is 15.\n"
     ]
    }
   ],
   "source": [
    "#Function with variable-length arguments\n",
    "#Positional variable-length arguments\n",
    "def add_numbers(*args):\n",
    "    \"\"\"\n",
    "    This function takes a variable number of arguments and returns their sum.\n",
    "    \n",
    "    :param args: int or float - The numbers to be summed\n",
    "    :return: int or float - The sum of the input numbers\n",
    "    \"\"\"\n",
    "    sum = 0\n",
    "    for number in args:\n",
    "        sum += number\n",
    "    return sum\n",
    "# Example usage of the add_numbers function\n",
    "result = add_numbers(1, 2, 3, 4, 5)\n",
    "print(f\"The sum of the numbers is {result}.\")"
   ]
  },
  {
   "cell_type": "code",
   "execution_count": null,
   "id": "0c66043c",
   "metadata": {},
   "outputs": [],
   "source": [
    "# KEyword variable-length arguments\n",
    "# It takes key value pairs as input\n",
    "def print_info(**kwargs):\n",
    "    \"\"\"\n",
    "    This function takes a variable number of keyword arguments and prints them.\n",
    "    \n",
    "    :param kwargs: str - The keyword arguments to be printed\n",
    "    \"\"\"\n",
    "    for key, value in kwargs.items():\n",
    "        print(f\"{key}: {value}\")\n",
    "# Example usage of the print_info function\n",
    "print_info(name=\"Alice\", age=30, city=\"New York\")\n",
    "# Function with a return statement\n"
   ]
  },
  {
   "cell_type": "code",
   "execution_count": 8,
   "id": "d0de37f8",
   "metadata": {},
   "outputs": [
    {
     "name": "stdout",
     "output_type": "stream",
     "text": [
      "Name: Alice, Age: 30\n",
      "Hobbies: Reading, Traveling\n",
      "city: New York\n",
      "occupation: Engineer\n"
     ]
    }
   ],
   "source": [
    "#Using both variable length positional and keyword arguments\n",
    "def describe_person(name, age, *args, **kwargs):\n",
    "    \"\"\"\n",
    "    This function describes a person with their name, age, hobbies, and additional info.\n",
    "    \n",
    "    :param name: str - The name of the person\n",
    "    :param age: int - The age of the person\n",
    "    :param args: str - Additional hobbies of the person\n",
    "    :param kwargs: str - Additional information about the person\n",
    "    \"\"\"\n",
    "    print(f\"Name: {name}, Age: {age}\")\n",
    "    if args:\n",
    "        print(\"Hobbies:\", \", \".join(args))\n",
    "    for key, value in kwargs.items():\n",
    "        print(f\"{key}: {value}\")\n",
    "# Example usage of the describe_person function\n",
    "describe_person(\"Alice\", 30, \"Reading\", \"Traveling\", city=\"New York\", occupation=\"Engineer\")\n"
   ]
  },
  {
   "cell_type": "code",
   "execution_count": 9,
   "id": "f9057721",
   "metadata": {},
   "outputs": [
    {
     "name": "stdout",
     "output_type": "stream",
     "text": [
      "Total: 100, Average: 25.0\n"
     ]
    }
   ],
   "source": [
    "#Returning multiple values from a function\n",
    "def calculate_stats(numbers):\n",
    "    \"\"\"\n",
    "    This function calculates the sum and average of a list of numbers.\n",
    "    \n",
    "    :param numbers: list - The list of numbers to calculate stats for\n",
    "    :return: tuple - A tuple containing the sum and average of the numbers\n",
    "    \"\"\"\n",
    "    total = sum(numbers)\n",
    "    average = total / len(numbers) if numbers else 0\n",
    "    return total, average\n",
    "# Example usage of the calculate_stats function\n",
    "stats = calculate_stats([10, 20, 30, 40])   \n",
    "print(f\"Total: {stats[0]}, Average: {stats[1]}\")"
   ]
  },
  {
   "cell_type": "code",
   "execution_count": 10,
   "id": "3479bc01",
   "metadata": {},
   "outputs": [
    {
     "name": "stdout",
     "output_type": "stream",
     "text": [
      "True\n"
     ]
    }
   ],
   "source": [
    "#The any() function in Python is a built-in function that takes an iterable (like a list, tuple, or set) as an argument. It returns True if at least one element in the iterable evaluates to True. Otherwise, it returns False. If the iterable is empty, it returns False\n",
    "def password_check(password):\n",
    "    \"\"\"\n",
    "    This function checks if a password meets certain criteria.\n",
    "    \n",
    "    :param password: str - The password to check\n",
    "    :return: bool - True if the password is valid, False otherwise\n",
    "    \"\"\"\n",
    "    return any(char.isdigit() for char in password) and \\\n",
    "           any(char.isalpha() for char in password) and \\\n",
    "           len(password) >= 8\n",
    "# Example usage of the password_check function\n",
    "print(password_check(\"Password123\"))  # True"
   ]
  },
  {
   "cell_type": "code",
   "execution_count": 11,
   "id": "a478a08e",
   "metadata": {},
   "outputs": [
    {
     "name": "stdout",
     "output_type": "stream",
     "text": [
      "True\n"
     ]
    }
   ],
   "source": [
    "# Email validation function\n",
    "import re\n",
    "def is_valid_email(email):\n",
    "    \"\"\"\n",
    "    This function checks if an email address is valid.\n",
    "    \n",
    "    :param email: str - The email address to validate\n",
    "    :return: bool - True if the email is valid, False otherwise\n",
    "    \"\"\"\n",
    "    pattern = r'^[a-zA-Z0-9._%+-]+@[a-zA-Z0-9.-]+\\.[a-zA-Z]{2,}$'\n",
    "    return re.match(pattern, email) is not None\n",
    "\n",
    "# Example usage of the is_valid_email function\n",
    "print(is_valid_email(\"karateilove@gmail.com\"))  # True"
   ]
  }
 ],
 "metadata": {
  "kernelspec": {
   "display_name": "Python 3",
   "language": "python",
   "name": "python3"
  },
  "language_info": {
   "codemirror_mode": {
    "name": "ipython",
    "version": 3
   },
   "file_extension": ".py",
   "mimetype": "text/x-python",
   "name": "python",
   "nbconvert_exporter": "python",
   "pygments_lexer": "ipython3",
   "version": "3.10.17"
  }
 },
 "nbformat": 4,
 "nbformat_minor": 5
}
