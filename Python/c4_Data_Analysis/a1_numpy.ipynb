{
 "cells": [
  {
   "cell_type": "markdown",
   "id": "2f60d7e8",
   "metadata": {},
   "source": [
    "### Numpy"
   ]
  },
  {
   "cell_type": "code",
   "execution_count": null,
   "id": "ea5e6c30",
   "metadata": {},
   "outputs": [
    {
     "name": "stdout",
     "output_type": "stream",
     "text": [
      "[1 2 3 4 5]\n",
      "<class 'numpy.ndarray'>\n",
      "(5,)\n"
     ]
    }
   ],
   "source": [
    "# Numpy\n",
    "import numpy as np\n",
    "\n",
    "# Can give list tuple , list ,set\n",
    "arr1=np.array([1,2,3,4,5])\n",
    "print(arr1)\n",
    "print(type(arr1))\n",
    "print(arr1.shape) # Single Dimension Array"
   ]
  },
  {
   "cell_type": "code",
   "execution_count": null,
   "id": "71afe3d8",
   "metadata": {},
   "outputs": [
    {
     "name": "stdout",
     "output_type": "stream",
     "text": [
      "<class 'numpy.ndarray'>\n",
      "[1 2 3 4 5]\n"
     ]
    }
   ],
   "source": [
    "arr2=np.array([1,2,3,4,5])\n",
    "# cannot reshape array of size 5 into shape (1,3)\n",
    "#arr2.reshape(1,3)\n",
    "arr2.reshape(1,5) #1 row 5 column\n",
    "print(type(arr2)) \n",
    "print(arr2)"
   ]
  },
  {
   "cell_type": "markdown",
   "id": "a0b62f11",
   "metadata": {},
   "source": [
    "#### Create directly- 2D Array"
   ]
  },
  {
   "cell_type": "code",
   "execution_count": null,
   "id": "8e5f4320",
   "metadata": {},
   "outputs": [
    {
     "name": "stdout",
     "output_type": "stream",
     "text": [
      "[[1 2 4]\n",
      " [3 4 5]]\n",
      "(2, 3)\n"
     ]
    }
   ],
   "source": [
    "\n",
    "arr2=np.array([[1,2,4],[3,4,5]])\n",
    "print(arr2)\n",
    "print(arr2.shape)"
   ]
  },
  {
   "cell_type": "markdown",
   "id": "287847e6",
   "metadata": {
    "notebookRunGroups": {
     "groupValue": "1"
    }
   },
   "source": [
    "#### Creating using range"
   ]
  },
  {
   "cell_type": "code",
   "execution_count": null,
   "id": "355d23c6",
   "metadata": {},
   "outputs": [
    {
     "name": "stdout",
     "output_type": "stream",
     "text": [
      "[0 2 4 6 8]\n",
      "[[0 2 4 6 8]]\n",
      "[[0]\n",
      " [2]\n",
      " [4]\n",
      " [6]\n",
      " [8]]\n"
     ]
    }
   ],
   "source": [
    "\n",
    "arr3=np.array(range(0,10,2))\n",
    "print(arr3)\n",
    "print(arr3.reshape(1,5))\n",
    "arr3=np.array(range(0,10,2))\n",
    "print(arr3.reshape((5,1)))"
   ]
  },
  {
   "cell_type": "markdown",
   "id": "2f0153d8",
   "metadata": {},
   "source": [
    "#### Other methods"
   ]
  },
  {
   "cell_type": "code",
   "execution_count": null,
   "id": "8c83a397",
   "metadata": {},
   "outputs": [
    {
     "name": "stdout",
     "output_type": "stream",
     "text": [
      "[[1. 1. 1.]\n",
      " [1. 1. 1.]\n",
      " [1. 1. 1.]]\n",
      "[[0. 0. 0.]\n",
      " [0. 0. 0.]\n",
      " [0. 0. 0.]]\n",
      "[[1. 0. 0.]\n",
      " [0. 1. 0.]\n",
      " [0. 0. 1.]]\n",
      "Array  [[1. 0. 0.]\n",
      " [0. 1. 0.]\n",
      " [0. 0. 1.]]\n",
      "Shape  (3, 3)\n",
      "number of dimension  2\n",
      "Size  9\n",
      "type of element  float64\n",
      "Item size in byte  8\n"
     ]
    }
   ],
   "source": [
    "\n",
    "#all ones\n",
    "arr4=np.ones(9).reshape(3,3)\n",
    "print(arr4)\n",
    "\n",
    "# Other methods\n",
    "#all zeros\n",
    "arr4=np.zeros(9).reshape(3,3)\n",
    "print(arr4)\n",
    "\n",
    "# Other methods\n",
    "#Identity Matrix\n",
    "arr4=np.eye(3)\n",
    "print(arr4)\n",
    "\n",
    "\n",
    "## Attributes of numpy\n",
    "print(\"Array \",arr4)\n",
    "print(\"Shape \",arr4.shape)\n",
    "print(\"number of dimension \",arr4.ndim)\n",
    "print(\"Size \",arr4.size)\n",
    "print(\"type of element \",arr4.dtype)\n",
    "print(\"Item size in byte \",arr4.itemsize)\n",
    "\n"
   ]
  },
  {
   "cell_type": "markdown",
   "id": "46c0676a",
   "metadata": {},
   "source": [
    "#### Numpy Vectorized operations"
   ]
  },
  {
   "cell_type": "code",
   "execution_count": null,
   "id": "b9ee64af",
   "metadata": {},
   "outputs": [
    {
     "name": "stdout",
     "output_type": "stream",
     "text": [
      "Addition  [ 8 10 12  4  9]\n",
      "Addition  [ 8 10 12  4  9]\n",
      "Addition  [ 7 16 27  0 20]\n",
      "Addition  [ 7 16 27  0 20]\n",
      "Addition  [0 0 0 0 4]\n"
     ]
    }
   ],
   "source": [
    "\n",
    "arr1=np.array([1,2,3,4,5])\n",
    "arr2=np.array([7,8,9,0,4])\n",
    "\n",
    "#Element wise addition\n",
    "print(\"Addition \", arr1+arr2)\n",
    "#Element wise substraction\n",
    "print(\"Addition \" ,arr2+arr1)\n",
    "\n",
    "#Element wise multiplications\n",
    "print(\"Addition \", arr2*arr1)\n",
    "\n",
    "#Element wise division\n",
    "print(\"Addition \", arr2*arr1)\n",
    "\n",
    "#Element wise modulo\n",
    "print(\"Addition \", arr2%arr1)"
   ]
  },
  {
   "cell_type": "markdown",
   "id": "8b4d3d5e",
   "metadata": {},
   "source": [
    "#### Universal Functions"
   ]
  },
  {
   "cell_type": "code",
   "execution_count": null,
   "id": "b98f3094",
   "metadata": {},
   "outputs": [
    {
     "name": "stdout",
     "output_type": "stream",
     "text": [
      "[1.         1.41421356 1.73205081 2.         2.23606798]\n",
      "[ 0.84147098  0.90929743  0.14112001 -0.7568025  -0.95892427]\n",
      "[  2.71828183   7.3890561   20.08553692  54.59815003 148.4131591 ]\n",
      "[0.         0.69314718 1.09861229 1.38629436 1.60943791]\n"
     ]
    }
   ],
   "source": [
    "\n",
    "\n",
    "arr=np.array([1,2,3,4,5])\n",
    "\n",
    "#Square element\n",
    "print(np.sqrt(arr))\n",
    "#sine element\n",
    "print(np.sin(arr))\n",
    "#cube element\n",
    "print(np.exp(arr))\n",
    "#log element\n",
    "print(np.log(arr))\n"
   ]
  },
  {
   "cell_type": "markdown",
   "id": "672ce77e",
   "metadata": {},
   "source": [
    "#### Slicing and indexing"
   ]
  },
  {
   "cell_type": "code",
   "execution_count": null,
   "id": "a62b8b39",
   "metadata": {},
   "outputs": [
    {
     "name": "stdout",
     "output_type": "stream",
     "text": [
      "Array: \n",
      " [[ 1  2  3  4]\n",
      " [ 5  6  7  8]\n",
      " [ 9 10 11 12]]\n"
     ]
    },
    {
     "data": {
      "text/plain": [
       "np.int64(3)"
      ]
     },
     "execution_count": 31,
     "metadata": {},
     "output_type": "execute_result"
    }
   ],
   "source": [
    "\n",
    "arr=np.array([[1,2,3,4],[5,6,7,8],[9,10,11,12]])\n",
    "print(\"Array: \\n\",arr)\n",
    "#retrive 0th row 2nd column\n",
    "arr[0][2]"
   ]
  },
  {
   "cell_type": "markdown",
   "id": "239c21d5",
   "metadata": {},
   "source": [
    "#### Slicing -getting 7 8 11 12"
   ]
  },
  {
   "cell_type": "code",
   "execution_count": null,
   "id": "12050764",
   "metadata": {},
   "outputs": [
    {
     "name": "stdout",
     "output_type": "stream",
     "text": [
      "[[ 5  6  7  8]\n",
      " [ 9 10 11 12]]\n",
      "[[ 7  8]\n",
      " [11 12]]\n",
      "[[3 4]\n",
      " [7 8]]\n",
      "[[ 6  7]\n",
      " [10 11]]\n"
     ]
    }
   ],
   "source": [
    "\n",
    "print(arr[1:]) #Taking all from first row\n",
    "print(arr[1:,2:]) #Taking all from first row and second column\n",
    "#getting 3 4 7 8 \n",
    "print(arr[0:2,2:])\n",
    "#getting 6 7 10 11\n",
    "print(arr[1:,1:3])"
   ]
  },
  {
   "cell_type": "markdown",
   "id": "faa5cc46",
   "metadata": {},
   "source": [
    "#### Modify Array Element"
   ]
  },
  {
   "cell_type": "code",
   "execution_count": null,
   "id": "64af0658",
   "metadata": {},
   "outputs": [
    {
     "name": "stdout",
     "output_type": "stream",
     "text": [
      "[[100   2   3   4]\n",
      " [  5   6   7   8]\n",
      " [  9  10  11  12]]\n",
      "[[  1   2   3   4]\n",
      " [100 100 100 100]\n",
      " [100 100 100 100]]\n"
     ]
    }
   ],
   "source": [
    "\n",
    "arr=np.array([[1,2,3,4],[5,6,7,8],[9,10,11,12]])\n",
    "arr[0,0]=100\n",
    "print(arr)\n",
    "\n",
    "arr=np.array([[1,2,3,4],[5,6,7,8],[9,10,11,12]])\n",
    "arr[1:,]=100\n",
    "print(arr)"
   ]
  },
  {
   "cell_type": "markdown",
   "id": "be33fe73",
   "metadata": {},
   "source": [
    "#### Statical Concept -- normalization"
   ]
  },
  {
   "cell_type": "code",
   "execution_count": null,
   "id": "f0b07df4",
   "metadata": {},
   "outputs": [
    {
     "name": "stdout",
     "output_type": "stream",
     "text": [
      "[-1.41421356 -0.70710678  0.          0.70710678  1.41421356]\n"
     ]
    }
   ],
   "source": [
    "\n",
    "data=np.array([1,2,3,4,5])\n",
    "mean=np.mean(data)\n",
    "std_dev=np.std(data)\n",
    "\n",
    "normalized_data=(data-mean)/std_dev\n",
    "print(normalized_data)"
   ]
  },
  {
   "cell_type": "markdown",
   "id": "95a9c7dc",
   "metadata": {},
   "source": [
    "#### Statical Concept -- normalization"
   ]
  },
  {
   "cell_type": "code",
   "execution_count": null,
   "id": "4bece89a",
   "metadata": {},
   "outputs": [
    {
     "name": "stdout",
     "output_type": "stream",
     "text": [
      "3.0\n",
      "1.4142135623730951\n",
      "3.0\n",
      "2.0\n"
     ]
    }
   ],
   "source": [
    "\n",
    "data=np.array([1,2,3,4,5])\n",
    "print(np.mean(data))\n",
    "print(np.std(data))\n",
    "print(np.median(data))\n",
    "print(np.var(data))#vairance\n"
   ]
  },
  {
   "cell_type": "markdown",
   "id": "76d793bc",
   "metadata": {},
   "source": [
    "#### Logical Operation"
   ]
  },
  {
   "cell_type": "code",
   "execution_count": null,
   "id": "d63137e2",
   "metadata": {},
   "outputs": [
    {
     "name": "stdout",
     "output_type": "stream",
     "text": [
      "[ True  True  True  True False False False False False]\n",
      "[1 2 3 4]\n",
      "[2 3 4]\n"
     ]
    }
   ],
   "source": [
    "\n",
    "data=np.array([1,2,3,4,5,7,8,9,10])\n",
    "print(data<5)\n",
    "print(data[data<5])\n",
    "print(data[(data<5) & (data>1)])\n"
   ]
  }
 ],
 "metadata": {
  "kernelspec": {
   "display_name": "Python 3",
   "language": "python",
   "name": "python3"
  },
  "language_info": {
   "codemirror_mode": {
    "name": "ipython",
    "version": 3
   },
   "file_extension": ".py",
   "mimetype": "text/x-python",
   "name": "python",
   "nbconvert_exporter": "python",
   "pygments_lexer": "ipython3",
   "version": "3.10.17"
  }
 },
 "nbformat": 4,
 "nbformat_minor": 5
}
