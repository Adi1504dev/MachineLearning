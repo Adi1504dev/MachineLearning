{
 "cells": [
  {
   "cell_type": "code",
   "execution_count": 5,
   "id": "239f6b42",
   "metadata": {},
   "outputs": [
    {
     "name": "stdout",
     "output_type": "stream",
     "text": [
      "7\n"
     ]
    }
   ],
   "source": [
    "### This script demonstrates how to use a backslash for line continuation in Python.\n",
    "# Using backslash for line continuation\n",
    "total=1+2+ \\\n",
    "4\n",
    "print(total)\n"
   ]
  },
  {
   "cell_type": "code",
   "execution_count": 6,
   "id": "e546fee4",
   "metadata": {},
   "outputs": [
    {
     "name": "stdout",
     "output_type": "stream",
     "text": [
      "9\n"
     ]
    }
   ],
   "source": [
    "# Demonstrating variable assignment and arithmetic operations in single line\n",
    "# Assigning values to variables and performing arithmetic in a single line\n",
    "x=5;y=4;z=x+y;\n",
    "# Printing the result of the arithmetic operation\n",
    "print(z)"
   ]
  },
  {
   "cell_type": "code",
   "execution_count": 7,
   "id": "86e0b843",
   "metadata": {},
   "outputs": [
    {
     "name": "stdout",
     "output_type": "stream",
     "text": [
      "<class 'int'>\n",
      "<class 'float'>\n",
      "<class 'str'>\n"
     ]
    }
   ],
   "source": [
    "#Type inference\n",
    "# Demonstrating type inference in Python    \n",
    "# Assigning an integer to a variable\n",
    "a=10        \n",
    "# Assigning a float to a variable\n",
    "b=10.5  \n",
    "# Assigning a string to a variable\n",
    "c=\"Hello, World!\"   \n",
    "# Printing the types of the variables\n",
    "print(type(a))  # <class 'int'>\n",
    "print(type(b))  # <class 'float'>   \n",
    "print(type(c))  # <class 'str'>\n"
   ]
  },
  {
   "cell_type": "code",
   "execution_count": 8,
   "id": "dd9d811a",
   "metadata": {},
   "outputs": [
    {
     "name": "stdout",
     "output_type": "stream",
     "text": [
      "Hello, Alice!\n",
      "Hello, World!\n"
     ]
    }
   ],
   "source": [
    "#Code indentation\n",
    "# Demonstrating code indentation in Python      \n",
    "def greet(name):\n",
    "    # Indented block of code\n",
    "    if name:\n",
    "        print(f\"Hello, {name}!\")  # This line is indented\n",
    "    else:\n",
    "        print(\"Hello, World!\")  # This line is also indented    \n",
    "\n",
    "# Calling the function with an argument\n",
    "greet(\"Alice\")  # Output: Hello, Alice!\n",
    "# Calling the function without an argument\n",
    "greet(\"\")  # Output: Hello, World!\n",
    "# Demonstrating the use of semicolons in Python "
   ]
  },
  {
   "cell_type": "code",
   "execution_count": null,
   "id": "8e2216b6",
   "metadata": {},
   "outputs": [
    {
     "name": "stdout",
     "output_type": "stream",
     "text": [
      "You entered: 5 <class 'str'>\n"
     ]
    }
   ],
   "source": [
    "#input and output\n",
    "#From input type is str by default\n",
    "var=input(\"Enter a value: \")  # Taking input from the user\n",
    "print(\"You entered:\", var,type(var)) \n"
   ]
  },
  {
   "cell_type": "code",
   "execution_count": 11,
   "id": "abedd420",
   "metadata": {},
   "outputs": [
    {
     "data": {
      "text/plain": [
       "5"
      ]
     },
     "execution_count": 11,
     "metadata": {},
     "output_type": "execute_result"
    }
   ],
   "source": [
    "#Floor Division\n",
    "# Demonstrating floor division in Python       \n",
    "21// 4  # This will perform floor division"
   ]
  },
  {
   "cell_type": "code",
   "execution_count": null,
   "id": "0dc40562",
   "metadata": {},
   "outputs": [
    {
     "name": "stdout",
     "output_type": "stream",
     "text": [
      "0\n",
      "1\n",
      "2\n",
      "4\n"
     ]
    }
   ],
   "source": [
    "#pass vs continue\n",
    "# Demonstrating the use of pass and continue in loops\n",
    "for i in range(5):\n",
    "    if i == 2:\n",
    "        pass  # This will do nothing but continue the loop\n",
    "    elif i == 3:\n",
    "        continue  # This will skip the rest of the loop for this iteration\n",
    "    print(i)  # Output: 0, 1, 2 4 ( 3 is skipped due to continue)\n",
    "\n",
    "# Demonstrating the use of pass in a function\n",
    "def do_nothing():\n",
    "    pass  # This function does nothing      \n",
    "#pass is used when a statement is required syntactically but you do not want any command or code to execute. They act as a placeholder."
   ]
  },
  {
   "cell_type": "code",
   "execution_count": 14,
   "id": "84122326",
   "metadata": {},
   "outputs": [
    {
     "name": "stdout",
     "output_type": "stream",
     "text": [
      "0\n",
      "2\n",
      "4\n",
      "6\n",
      "8\n",
      "10\n",
      "8\n",
      "6\n",
      "4\n",
      "2\n"
     ]
    }
   ],
   "source": [
    "# Looping \n",
    "for i in range(0,10,2):  # Looping from 0 to 10 with a step of 2\n",
    "    print(i)  # Output: 0, 2, 4, 6, 8\n",
    "for i in range(10,0,-2):\n",
    "    print(i)#looping from 10 to 0 with a step of -2"
   ]
  }
 ],
 "metadata": {
  "kernelspec": {
   "display_name": "Python 3",
   "language": "python",
   "name": "python3"
  },
  "language_info": {
   "codemirror_mode": {
    "name": "ipython",
    "version": 3
   },
   "file_extension": ".py",
   "mimetype": "text/x-python",
   "name": "python",
   "nbconvert_exporter": "python",
   "pygments_lexer": "ipython3",
   "version": "3.10.17"
  }
 },
 "nbformat": 4,
 "nbformat_minor": 5
}
