{
 "cells": [
  {
   "cell_type": "code",
   "execution_count": 27,
   "id": "cfc89ea3",
   "metadata": {},
   "outputs": [],
   "source": [
    "#Dictionaries in python is unordered collection of items.\n",
    "#Each item is stored as a pair of key and value.\n",
    "#Dictionaries are mutable, which means they can be changed.\n",
    "#Dictionaries are defined using curly braces {} and key-value pairs are separated by a colon (:).   "
   ]
  },
  {
   "cell_type": "code",
   "execution_count": 28,
   "id": "57d06f2b",
   "metadata": {},
   "outputs": [
    {
     "name": "stdout",
     "output_type": "stream",
     "text": [
      "Empty Dictionary: <class 'dict'>\n",
      "My Dictionary: {'name': 'Alice', 'age': 30, 'city': 'New York'}\n"
     ]
    }
   ],
   "source": [
    "#creating an empty dictionary\n",
    "empty_dic = {}\n",
    "# OR\n",
    "empty_dic= dict()   \n",
    "print(\"Empty Dictionary:\", type(empty_dic))\n",
    "\n",
    "#Creating a dictionary\n",
    "my_dict = {\n",
    "    \"name\": \"Alice\",\n",
    "    \"age\": 30,\n",
    "    \"city\": \"New York\"\n",
    "}\n",
    "print(\"My Dictionary:\", my_dict)\n"
   ]
  },
  {
   "cell_type": "code",
   "execution_count": 29,
   "id": "62ee43b1",
   "metadata": {},
   "outputs": [
    {
     "name": "stdout",
     "output_type": "stream",
     "text": [
      "My Dictionary: {'name': 'New York', 'age': 30}\n"
     ]
    }
   ],
   "source": [
    "# keys are redefined, the last value will be kept\n",
    "my_dict = {\n",
    "    \"name\": \"Alice\",\n",
    "    \"age\": 30,\n",
    "    \"name\": \"New York\"\n",
    "}\n",
    "print(\"My Dictionary:\", my_dict)"
   ]
  },
  {
   "cell_type": "code",
   "execution_count": 30,
   "id": "56f3e7a5",
   "metadata": {},
   "outputs": [
    {
     "name": "stdout",
     "output_type": "stream",
     "text": [
      "Name: New York\n",
      "Age: 30\n",
      "yo: None\n",
      "yo: Not Found\n"
     ]
    }
   ],
   "source": [
    "#Accessing values in a dictionary\n",
    "print(\"Name:\", my_dict[\"name\"])  # Output: New York\n",
    "print(\"Age:\", my_dict.get(\"age\"))    # Output: 30\n",
    "print(\"yo:\", my_dict.get(\"yo\"))    # Output: None as no key \"yo\" exists\n",
    "print(\"yo:\", my_dict.get(\"yo\", \"Not Found\"))  # Output: Not Found - default value if key not found"
   ]
  },
  {
   "cell_type": "code",
   "execution_count": 31,
   "id": "94e674c8",
   "metadata": {},
   "outputs": [
    {
     "name": "stdout",
     "output_type": "stream",
     "text": [
      "Before modification: {'name': 'New York', 'age': 30}\n",
      "After modification: {'name': 'New York', 'age': 32, 'city': 'Los Angeles'}\n"
     ]
    }
   ],
   "source": [
    "#Dictionary are mutable, meaning you can change them after creation.\n",
    "# Modifying a dictionary\n",
    "print(\"Before modification:\", my_dict)\n",
    "my_dict[\"city\"] = \"Los Angeles\"  # Add new key-value pair\n",
    "my_dict[\"age\"] = 32  # Update existing key\n",
    "print(\"After modification:\", my_dict)"
   ]
  },
  {
   "cell_type": "code",
   "execution_count": 32,
   "id": "de399738",
   "metadata": {},
   "outputs": [
    {
     "name": "stdout",
     "output_type": "stream",
     "text": [
      "After deletion: {'name': 'New York', 'age': 32}\n"
     ]
    }
   ],
   "source": [
    "#delete key\n",
    "del my_dict[\"city\"]  # Remove key-value pair\n",
    "print(\"After deletion:\", my_dict)"
   ]
  },
  {
   "cell_type": "code",
   "execution_count": 33,
   "id": "f0a1caa6",
   "metadata": {},
   "outputs": [
    {
     "name": "stdout",
     "output_type": "stream",
     "text": [
      "Keys: dict_keys(['name', 'age'])\n",
      "Values: dict_values(['New York', 32])\n",
      "Items: dict_items([('name', 'New York'), ('age', 32)])\n"
     ]
    }
   ],
   "source": [
    "#Dictionary methods\n",
    "print(\"Keys:\", my_dict.keys())  # Output: dict_keys(['name', 'age'])\n",
    "print(\"Values:\", my_dict.values())  # Output: dict_values(['New York', 32])\n",
    "print(\"Items:\", my_dict.items())  # Output: dict_items([('name', 'New York'), ('age', 32)])"
   ]
  },
  {
   "cell_type": "code",
   "execution_count": null,
   "id": "f9018cdb",
   "metadata": {},
   "outputs": [
    {
     "name": "stdout",
     "output_type": "stream",
     "text": [
      "Shallow Copy: {'name': 'Bob1', 'age': 32}\n",
      "Original Dictionary after change: {'name': 'Bob', 'age': 32}\n",
      "Shallow Copy after original change: {'name': 'Bob', 'age': 32}\n",
      "Shallow Copy using copy method: {'name': 'Bob', 'age': 32}\n",
      "Original Dictionary after change: {'name': 'Alice', 'age': 32}\n",
      "Shallow Copy after original change: {'name': 'Bob', 'age': 32}\n"
     ]
    }
   ],
   "source": [
    "#Shallow copy of dictionary- Very Important\n",
    "#Here the dictonary is copied by reference, not by value.\n",
    "#So, if you change the original dictionary, the shallow copy will also reflect that change.\n",
    "copy_dict = my_dict\n",
    "print(\"Shallow Copy:\", copy_dict)\n",
    "my_dict[\"name\"] = \"Bob\"  # Change original dictionary\n",
    "print(\"Original Dictionary after change:\", my_dict)\n",
    "print(\"Shallow Copy after original change:\", copy_dict)\n",
    "\n",
    "# So use copy method\n",
    "#Shallow copy of dictionary- Very Important\n",
    "copy_dict = my_dict.copy()\n",
    "print(\"Shallow Copy using copy method:\", copy_dict)\n",
    "my_dict[\"name\"] = \"Alice\"  # Change original dictionary\n",
    "print(\"Original Dictionary after change:\", my_dict)\n",
    "print(\"Shallow Copy after original change:\", copy_dict)\n"
   ]
  },
  {
   "cell_type": "code",
   "execution_count": 37,
   "id": "24c2617e",
   "metadata": {},
   "outputs": [
    {
     "name": "stdout",
     "output_type": "stream",
     "text": [
      "name: Alice\n",
      "age: 32\n",
      " Alice\n",
      " 32\n",
      " name\n",
      " age\n"
     ]
    }
   ],
   "source": [
    "#iterating through a dictionary\n",
    "for key, value in my_dict.items():\n",
    "    print(f\"{key}: {value}\")\n",
    "\n",
    "for value in my_dict.values():\n",
    "    print(f\" {value}\")\n",
    "\n",
    "for key in my_dict.keys():\n",
    "    print(f\" {key}\")\n",
    "\n"
   ]
  },
  {
   "cell_type": "code",
   "execution_count": 38,
   "id": "8542bd2e",
   "metadata": {},
   "outputs": [
    {
     "name": "stdout",
     "output_type": "stream",
     "text": [
      "Nested Dictionary: {'person1': {'name': 'Alice', 'age': 30}, 'person2': {'name': 'Bob', 'age': 25}}\n"
     ]
    }
   ],
   "source": [
    "#Nested dictionaries\n",
    "nested_dict = {\n",
    "    \"person1\": {\n",
    "        \"name\": \"Alice\",\n",
    "        \"age\": 30\n",
    "    },\n",
    "    \"person2\": {\n",
    "        \"name\": \"Bob\",\n",
    "        \"age\": 25\n",
    "    }\n",
    "}\n",
    "print(\"Nested Dictionary:\", nested_dict)"
   ]
  },
  {
   "cell_type": "code",
   "execution_count": 39,
   "id": "c0a5c185",
   "metadata": {},
   "outputs": [
    {
     "name": "stdout",
     "output_type": "stream",
     "text": [
      "Person1 Name: Alice\n"
     ]
    }
   ],
   "source": [
    "#Accessing nested dictionary values\n",
    "print(\"Person1 Name:\", nested_dict[\"person1\"][\"name\"])  # Output: Alice"
   ]
  },
  {
   "cell_type": "code",
   "execution_count": 43,
   "id": "cba66184",
   "metadata": {},
   "outputs": [
    {
     "name": "stdout",
     "output_type": "stream",
     "text": [
      "person1:\n",
      "  name: Alice\n",
      "  age: 30\n",
      "person2:\n",
      "  name: Bob\n",
      "  age: 25\n",
      "Squares Dictionary: {1: 1, 2: 4, 3: 9, 4: 16, 5: 25}\n",
      "Even Squares Dictionary: {2: 4, 4: 16, 6: 36, 8: 64}\n"
     ]
    }
   ],
   "source": [
    "# Iterating through a nested dictionary\n",
    "for person, details in nested_dict.items():\n",
    "    print(f\"{person}:\")\n",
    "    for key, value in details.items():\n",
    "        print(f\"  {key}: {value}\")  \n",
    "\n",
    "# Dictionary Comprehensions \n",
    "squares = {x: x**2 for x in range(1, 6)}\n",
    "print(\"Squares Dictionary:\", squares)  # Output: {1: 1, 2: 4, 3: 9, 4: 16, 5: 25}\n",
    "\n",
    "even_numbers={x:x**2 for x in range(1,10) if x%2==0}\n",
    "print(\"Even Squares Dictionary:\", even_numbers)  # Output: {2: 4, 4: 16, 6: 36, 8: 64}"
   ]
  },
  {
   "cell_type": "code",
   "execution_count": 44,
   "id": "d1c9c86c",
   "metadata": {},
   "outputs": [
    {
     "name": "stdout",
     "output_type": "stream",
     "text": [
      "Character Frequency Dictionary: {'r': 1, 'l': 3, 'w': 1, 'o': 2, 'e': 1, 'd': 1, ' ': 1, 'h': 1}\n"
     ]
    }
   ],
   "source": [
    "# Wrtie code to count the frequency of each character in a string\n",
    "input_string = \"hello world\"\n",
    "char_frequency = {char: input_string.count(char) for char in set(input_string)}\n",
    "print(\"Character Frequency Dictionary:\", char_frequency)  # Output: {'h': 1, 'e': 1, 'l': 3, 'o': 2, ' ': 1, 'w': 1, 'r': 1, 'd': 1}"
   ]
  },
  {
   "cell_type": "code",
   "execution_count": 45,
   "id": "2420e6be",
   "metadata": {},
   "outputs": [
    {
     "name": "stdout",
     "output_type": "stream",
     "text": [
      "Number Frequency Dictionary: {1: 2, 2: 4, 3: 2, 4: 2, 5: 1, 6: 1, 7: 1}\n"
     ]
    }
   ],
   "source": [
    "lst=[1,2,1,2,3,2,4,3,2,4,5,6,7]\n",
    "num_frequency ={x:lst.count(x) for x in lst }\n",
    "print(\"Number Frequency Dictionary:\", num_frequency)  # Output: {1: 2, 2: 5, 3: 2, 4: 2, 5: 1, 6: 1, 7: 1}"
   ]
  },
  {
   "cell_type": "code",
   "execution_count": null,
   "id": "57191fd5",
   "metadata": {},
   "outputs": [],
   "source": [
    "# merge two dictionaries\n",
    "dict1 = {'a': 1, 'b': 2}        \n",
    "dict2 = {'b': 3, 'c': 4}    \n",
    "merged_dict = {**dict1, **dict2}  # Merging using unpacking\n",
    "print(\"Merged Dictionary:\", merged_dict)  # Output: {'a': 1, 'b': 3, 'c': 4}"
   ]
  }
 ],
 "metadata": {
  "kernelspec": {
   "display_name": "Python 3",
   "language": "python",
   "name": "python3"
  },
  "language_info": {
   "codemirror_mode": {
    "name": "ipython",
    "version": 3
   },
   "file_extension": ".py",
   "mimetype": "text/x-python",
   "name": "python",
   "nbconvert_exporter": "python",
   "pygments_lexer": "ipython3",
   "version": "3.10.17"
  }
 },
 "nbformat": 4,
 "nbformat_minor": 5
}
