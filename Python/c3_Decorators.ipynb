{
 "cells": [
  {
   "cell_type": "markdown",
   "id": "863267e4",
   "metadata": {},
   "source": [
    "# Decorators\n",
    "\n",
    "Decorators are powerful and flexible feature in python that allows you to modify the behaviour of a functions or a class method. They are commonly used to add funtionality to functions or menthods without modifying there actual code . This lesson covers the basics of decorators, including how to create and use them"
   ]
  },
  {
   "cell_type": "markdown",
   "id": "749c6a2a",
   "metadata": {},
   "source": [
    "### Function copy"
   ]
  },
  {
   "cell_type": "code",
   "execution_count": 5,
   "id": "4fa4f7bb",
   "metadata": {},
   "outputs": [
    {
     "name": "stdout",
     "output_type": "stream",
     "text": [
      "Hello world\n",
      "Hello world\n"
     ]
    }
   ],
   "source": [
    "def welcome():\n",
    "    print(\"Hello world\")\n",
    "\n",
    "wel=welcome\n",
    "wel #Function wecome is copied to welcome and wel will remain even if welcome function is deleted\n",
    "wel()\n",
    "del welcome\n",
    "wel\n",
    "wel()"
   ]
  },
  {
   "cell_type": "markdown",
   "id": "f54951e1",
   "metadata": {},
   "source": [
    "### Closures\n",
    "Function inside functions"
   ]
  },
  {
   "cell_type": "code",
   "execution_count": 8,
   "id": "d70b2d85",
   "metadata": {},
   "outputs": [
    {
     "name": "stdout",
     "output_type": "stream",
     "text": [
      "Welcome to python corse\n",
      "welcome\n",
      "learn this well\n"
     ]
    }
   ],
   "source": [
    "def main_welcome():\n",
    "    msg=\"welcome\"\n",
    "    def sub_welcome():\n",
    "        print(\"Welcome to python corse\")\n",
    "        print(msg)# can use varible from main method\n",
    "        print(\"learn this well\")\n",
    "    return sub_welcome()# Submethod returned \n",
    "\n",
    "main_welcome()"
   ]
  },
  {
   "cell_type": "code",
   "execution_count": 9,
   "id": "49bd53e8",
   "metadata": {},
   "outputs": [
    {
     "name": "stdout",
     "output_type": "stream",
     "text": [
      "Welcome to python corse\n",
      "5\n",
      "learn this well\n"
     ]
    }
   ],
   "source": [
    "def main_welcome(func,lst):\n",
    "    msg=\"welcome\"\n",
    "    def sub_welcome():\n",
    "        print(\"Welcome to python corse\")\n",
    "        print(func(lst))# can use varible from main method\n",
    "        print(\"learn this well\")\n",
    "    return sub_welcome()# Submethod returned \n",
    "\n",
    "#We can pass methods as an argument to another method\n",
    "#For eg rit now i will pass len in-build method as an argument\n",
    "# We can use it inside sub method with variable name func\n",
    "\n",
    "main_welcome(len,[1,3,2,3,4])"
   ]
  },
  {
   "cell_type": "markdown",
   "id": "8e5c1a0d",
   "metadata": {},
   "source": [
    "### Decorators\n",
    "\n"
   ]
  },
  {
   "cell_type": "code",
   "execution_count": null,
   "id": "93d19912",
   "metadata": {},
   "outputs": [
    {
     "name": "stdout",
     "output_type": "stream",
     "text": [
      "Welcome to python corse\n",
      "hello Python\n",
      "learn this well\n"
     ]
    }
   ],
   "source": [
    "def main_welcome(func):\n",
    "    msg=\"welcome\"\n",
    "    def sub_welcome():\n",
    "        print(\"Welcome to python corse\")\n",
    "        func()\n",
    "        print(\"learn this well\")\n",
    "    return sub_welcome()# Submethod returned \n",
    "\n",
    "\n",
    "def hello_python():\n",
    "    print(\"hello Python\")\n",
    "\n",
    "main_welcome(hello_python)"
   ]
  },
  {
   "cell_type": "code",
   "execution_count": 15,
   "id": "af41a7e1",
   "metadata": {},
   "outputs": [
    {
     "name": "stdout",
     "output_type": "stream",
     "text": [
      "Welcome to python corse\n",
      "hello Python\n",
      "learn this well\n"
     ]
    }
   ],
   "source": [
    "#Using Decorators \n",
    "def main_welcome(func):\n",
    "    msg=\"welcome\"\n",
    "    def sub_welcome():\n",
    "        print(\"Welcome to python corse\")\n",
    "        func()\n",
    "        print(\"learn this well\")\n",
    "    return sub_welcome()# Submethod returned \n",
    "\n",
    "\n",
    "\n",
    "@main_welcome\n",
    "def hello_python():\n",
    "    print(\"hello Python\")\n",
    "\n",
    "hello_python # Just calling method"
   ]
  },
  {
   "cell_type": "markdown",
   "id": "57774e35",
   "metadata": {},
   "source": [
    "##### Example2\n",
    "With Argument"
   ]
  },
  {
   "cell_type": "code",
   "execution_count": 16,
   "id": "eead2683",
   "metadata": {},
   "outputs": [
    {
     "name": "stdout",
     "output_type": "stream",
     "text": [
      "Hello Aditya\n",
      "Hello Aditya\n",
      "Hello Aditya\n"
     ]
    }
   ],
   "source": [
    "def repeat(n):\n",
    "    def decorator(func):\n",
    "        def wrapper(*args,**kwargs):\n",
    "            for i in range(n):\n",
    "                func(*args,**kwargs)\n",
    "        return wrapper\n",
    "    return decorator\n",
    "@repeat(3)\n",
    "def say_Hello(t):\n",
    "    print(f\"Hello {t}\")\n",
    "say_Hello(\"Aditya\")"
   ]
  }
 ],
 "metadata": {
  "kernelspec": {
   "display_name": "Python 3",
   "language": "python",
   "name": "python3"
  },
  "language_info": {
   "codemirror_mode": {
    "name": "ipython",
    "version": 3
   },
   "file_extension": ".py",
   "mimetype": "text/x-python",
   "name": "python",
   "nbconvert_exporter": "python",
   "pygments_lexer": "ipython3",
   "version": "3.10.17"
  }
 },
 "nbformat": 4,
 "nbformat_minor": 5
}
