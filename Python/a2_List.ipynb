{
 "cells": [
  {
   "cell_type": "markdown",
   "id": "c216c41e",
   "metadata": {
    "notebookRunGroups": {
     "groupValue": "1"
    }
   },
   "source": [
    "### List\n",
    " List in python are ordered, mutable, and allow duplicate elements.\n",
    " They can contain elements of different data types."
   ]
  },
  {
   "cell_type": "markdown",
   "id": "dbd8f0b9",
   "metadata": {},
   "source": [
    "#### Creating a list"
   ]
  },
  {
   "cell_type": "code",
   "execution_count": null,
   "id": "e2ef94b4",
   "metadata": {},
   "outputs": [
    {
     "name": "stdout",
     "output_type": "stream",
     "text": [
      "<class 'list'>\n"
     ]
    }
   ],
   "source": [
    "empty_list = list()  # An empty list\n",
    "lst= [1, 2, 3, 4, 5]\n",
    "print(type(lst))  # Output: <class 'list'>"
   ]
  },
  {
   "cell_type": "code",
   "execution_count": 84,
   "id": "f493eb38",
   "metadata": {},
   "outputs": [
    {
     "name": "stdout",
     "output_type": "stream",
     "text": [
      "['John', 'Doe', 'Alice', 'Bob', 1, 2, 2.5, True]\n",
      "<class 'list'>\n"
     ]
    }
   ],
   "source": [
    "mixed_list=[\"John\", \"Doe\", \"Alice\", \"Bob\" ,1,2,2.5, True]\n",
    "print(mixed_list)  # Output: ['John', 'Doe', 'Alice', 'Bob', 1, 2, 2.5, True]\n",
    "print(type(mixed_list))  # Output: <class 'list'>"
   ]
  },
  {
   "cell_type": "markdown",
   "id": "facea192",
   "metadata": {},
   "source": [
    "#### Accessing elements in a list"
   ]
  },
  {
   "cell_type": "code",
   "execution_count": null,
   "id": "662e6e7b",
   "metadata": {},
   "outputs": [
    {
     "name": "stdout",
     "output_type": "stream",
     "text": [
      "John\n",
      "Doe\n",
      "Alice\n",
      "True\n",
      "2.5\n"
     ]
    }
   ],
   "source": [
    "\n",
    "print(mixed_list[0])  # Output: John\n",
    "print(mixed_list[1])  # Output: Doe\n",
    "print(mixed_list[2])  # Output: Alice   \n",
    "print(mixed_list[-1])  # Output: True\n",
    "print(mixed_list[-2])  # Output: 2.5"
   ]
  },
  {
   "cell_type": "markdown",
   "id": "07b913d8",
   "metadata": {},
   "source": [
    "#### Slicing a list"
   ]
  },
  {
   "cell_type": "code",
   "execution_count": null,
   "id": "d955e4d8",
   "metadata": {},
   "outputs": [
    {
     "name": "stdout",
     "output_type": "stream",
     "text": [
      "['John', 'Doe', 'Alice']\n",
      "['Doe', 'Alice', 'Bob', 1]\n",
      "['Doe', 'Alice', 'Bob', 1, 2]\n"
     ]
    }
   ],
   "source": [
    "print(mixed_list[:3])  # Output: ['John', 'Doe', 'Alice']           \n",
    "print(mixed_list[1:5])  # Output: ['Doe', 'Alice', 'Bob', 1]\n",
    "print(mixed_list[1:6])  # Output: ['Doe', 'Alice', 'Bob', 1, 2]"
   ]
  },
  {
   "cell_type": "markdown",
   "id": "5db61dbe",
   "metadata": {},
   "source": [
    "#### modifying a list"
   ]
  },
  {
   "cell_type": "code",
   "execution_count": null,
   "id": "7af65833",
   "metadata": {},
   "outputs": [
    {
     "name": "stdout",
     "output_type": "stream",
     "text": [
      "['Jane', 'Doe', 'Alice', 'Bob', 1, 2, 2.5, True]\n",
      "['Jane', 'Smith', 'Johnson', 'Bob', 1, 2, 2.5, True]\n"
     ]
    }
   ],
   "source": [
    "\n",
    "mixed_list[0] = \"Jane\"\n",
    "print(mixed_list)  # Output: ['Jane', 'Doe', 'Alice', 'Bob', 1, 2, 2.5, True]\n",
    "mixed_list[1:3] = [\"Smith\", \"Johnson\"]\n",
    "print(mixed_list)  # Output: ['Jane', 'Smith', 'Johnson', 'Bob', 1, 2, 2.5, True]"
   ]
  },
  {
   "cell_type": "markdown",
   "id": "aadf5d42",
   "metadata": {},
   "source": [
    "#### List methods"
   ]
  },
  {
   "cell_type": "code",
   "execution_count": null,
   "id": "3b099187",
   "metadata": {},
   "outputs": [
    {
     "name": "stdout",
     "output_type": "stream",
     "text": [
      "['Jane', 'Smith', 'Johnson', 'Bob', 1, 2, 2.5, True, 'Charlie']\n",
      "['Jane', 'Smith', 'Alice', 'Johnson', 'Bob', 1, 2, 2.5, True, 'Charlie']\n",
      "['Jane', 'Smith', 'Alice', 'Johnson', 1, 2, 2.5, True, 'Charlie']\n",
      "Charlie\n",
      "['Jane', 'Smith', 'Alice', 'Johnson', 1, 2, 2.5, True]\n",
      "2\n",
      "1\n",
      "None\n",
      "[-1, 1, 2, 4, 4]\n",
      "[True, 2.5, 2, 1, 'Johnson', 'Alice', 'Smith', 'Jane']\n",
      "[]\n"
     ]
    }
   ],
   "source": [
    "\n",
    "mixed_list.append(\"Charlie\") # Append \"Charlie\" to the end of the list   \n",
    "print(mixed_list)  # Output: ['Jane', 'Smith', 'Johnson', 'Bob', 1, 2, 2.5, True, 'Charlie']\n",
    "mixed_list.insert(2, \"Alice\") # Insert \"Alice\" at index 2\n",
    "print(mixed_list)  # Output: ['Jane', 'Smith', 'Alice', 'Johnson', 'Bob', 1, 2, 2.5, True, 'Charlie']\n",
    "mixed_list.remove(\"Bob\") # Remove the first occurrence of \"Bob\"\n",
    "print(mixed_list)  # Output: ['Jane', 'Smith', 'Alice', 'Johnson', 1, 2, 2.5, True, 'Charlie']\n",
    "print(mixed_list.pop())  # Output: Charlie (removes and returns the last element)\n",
    "print(mixed_list)  # Output: ['Jane', 'Smith', 'Alice', 'Johnson', 1, 2, 2.5, True]\n",
    "print(mixed_list.index(\"Alice\"))  # Output: 2 (returns the index of \"Alice\")\n",
    "print(mixed_list.count(2))  # Output: 1 (returns the count of 2 in the list)\n",
    "#mixed_list.sort()  #TypeError: '<' not supported between instances of 'int' and 'str' as lists contain mixed data types\n",
    "int_list = [4,2, 1, 4, -1]\n",
    "print(int_list.sort())  # Output: None (sorts the list in place)\n",
    "print(int_list)  # Output: [-1, 1, 2, 4, 4]\n",
    "mixed_list.reverse()  # Reverse the order of the list\n",
    "print(mixed_list)  # Output: [1, 2, 2.5, 'Alice', 'Jane', 'Johnson', 'Smith', True]\n",
    "mixed_list.clear()  # Clear all elements from the list\n",
    "print(mixed_list)  # Output: []"
   ]
  },
  {
   "cell_type": "markdown",
   "id": "5b32ff82",
   "metadata": {},
   "source": [
    "#### Slicing a list"
   ]
  },
  {
   "cell_type": "code",
   "execution_count": null,
   "id": "55151d63",
   "metadata": {},
   "outputs": [
    {
     "name": "stdout",
     "output_type": "stream",
     "text": [
      "[3, 4, 5]\n",
      "[1, 2, 3, 4, 5]\n",
      "[6, 7, 8, 9, 10]\n",
      "[1, 3, 5, 7, 9]\n",
      "[10, 9, 8, 7, 6, 5, 4, 3, 2, 1]\n",
      "[8, 9, 10]\n",
      "[10, 8, 6, 4, 2]\n"
     ]
    }
   ],
   "source": [
    "\n",
    "int_list = [1, 2, 3, 4, 5, 6, 7, 8, 9, 10]\n",
    "print(int_list[2:5])  # Output: [3, 4, 5] (elements from index 2 to 4)\n",
    "print(int_list[:5])  # Output: [1, 2, 3, 4, 5] (elements from start to index 4)\n",
    "print(int_list[5:])  # Output: [6, 7, 8, 9, 10] (elements from index 5 to end)      \n",
    "print(int_list[::2])  # Output: [1, 3, 5, 7, 9] (every second element)\n",
    "print(int_list[::-1])  # Output: [10, 9, 8, 7, 6, 5, 4, 3, 2, 1] (reversed list)\n",
    "print(int_list[-3:])  # Output: [8, 9, 10] (last three elements)\n",
    "print(int_list[::-2])  # Output: [10, 8, 6, 4, 2] (every second element in reverse order)"
   ]
  },
  {
   "cell_type": "markdown",
   "id": "dedf645a",
   "metadata": {},
   "source": [
    "#### Traversing a list"
   ]
  },
  {
   "cell_type": "code",
   "execution_count": null,
   "id": "5493c870",
   "metadata": {},
   "outputs": [
    {
     "name": "stdout",
     "output_type": "stream",
     "text": [
      "1 2 3 4 5 6 7 8 9 10 \n",
      "Using enumerate:\n",
      "Index: 0, Value: 1\n",
      "Index: 1, Value: 2\n",
      "Index: 2, Value: 3\n",
      "Index: 3, Value: 4\n",
      "Index: 4, Value: 5\n",
      "Index: 5, Value: 6\n",
      "Index: 6, Value: 7\n",
      "Index: 7, Value: 8\n",
      "Index: 8, Value: 9\n",
      "Index: 9, Value: 10\n"
     ]
    }
   ],
   "source": [
    "\n",
    "for item in int_list:\n",
    "    print(item, end=' ')  # Output: 1 2 3 4 5 6 7 8 9 10\n",
    "# Using enumerate to get index and value\n",
    "print(\"\\nUsing enumerate:\")\n",
    "for index, value in enumerate(int_list):\n",
    "    print(f\"Index: {index}, Value: {value}\")"
   ]
  },
  {
   "cell_type": "markdown",
   "id": "3a7db158",
   "metadata": {},
   "source": [
    "#### List comprehension\n",
    "List Comprehension basic syntax\n",
    "Basic Syntax    [expression for item in iterable]\n",
    "With conditional logic [ expression for iter in iterable if condition ]\n",
    "Nested List comprehension [expression for item1 in terable1 for item2 in iterable2 ]"
   ]
  },
  {
   "cell_type": "code",
   "execution_count": null,
   "id": "ed808e2d",
   "metadata": {},
   "outputs": [
    {
     "name": "stdout",
     "output_type": "stream",
     "text": [
      "0 1 2 3 4 5 6 7 8 9 \n",
      "Squares: [0, 1, 4, 9, 16, 25, 36, 49, 64, 81]\n",
      "Even Squares: [0, 4, 16, 36, 64]\n",
      "Nested List: [[1, 2, 3], [4, 5, 6], [7, 8, 9]]\n",
      "Element at [1][2]: 6\n",
      "List of Lists: [[1, 2], [3, 4], [5, 6]]\n",
      "Flattened List: [1, 2, 3, 4, 5, 6, 7, 8, 9]\n",
      "Concatenated List: [1, 2, 3, 4, 5, 6]\n",
      "Repeated List: [1, 2, 3, 1, 2, 3, 1, 2, 3]\n",
      "List A == List B: True\n",
      "List e: [(1, 'a'), (1, 'b'), (1, 'c'), (2, 'a'), (2, 'b'), (2, 'c'), (4, 'a'), (4, 'b'), (4, 'c')]\n",
      "Squared List: [0, 1, 4, 9, 16, 25, 36, 49, 64, 81]\n",
      "['odd', 'even', 'odd', 'even', 'odd']\n"
     ]
    }
   ],
   "source": [
    "\n",
    "for i in range(10):\n",
    "    print(i, end=' ')  # Output: 0 1 2 3 4 5 6 7 8 9        \n",
    "# List comprehension to create a list of squares        \n",
    "squares = [i**2 for i in range(10)]\n",
    "print(\"\\nSquares:\", squares)  # Output: Squares: [0, 1, 4, 9, 16, 25, 36, 49, 64, 81]   \n",
    "# List comprehension with condition\n",
    "even_squares = [i**2 for i in range(10) if i % 2 == 0 ] \n",
    "print(\"Even Squares:\", even_squares)  # Output: Even Squares: [0, 4, 16, 36, 64]\n",
    "# Nested lists\n",
    "nested_list = [[1, 2, 3], [4, 5, 6], [7, 8, 9]]\n",
    "print(\"Nested List:\", nested_list)  # Output: Nested List: [[1, 2, 3], [4, 5, 6], [7, 8, 9]]\n",
    "# Accessing elements in a nested list\n",
    "print(\"Element at [1][2]:\", nested_list[1][2])  # Output: Element at [1][2]: 6      \n",
    "# List of lists\n",
    "list_of_lists = [[1, 2], [3, 4], [5, 6]]        \n",
    "print(\"List of Lists:\", list_of_lists)  # Output: List of Lists: [[1, 2], [3, 4], [5, 6]]\n",
    "# Flattening a nested list\n",
    "flattened_list = [item for sublist in nested_list for item in sublist]      \n",
    "print(\"Flattened List:\", flattened_list)  # Output: Flattened List: [1, 2, 3, 4, 5, 6, 7, 8, 9]\n",
    "# List concatenation\n",
    "list1 = [1, 2, 3]\n",
    "list2 = [4, 5, 6]\n",
    "concatenated_list = list1 + list2\n",
    "print(\"Concatenated List:\", concatenated_list)  # Output: Concatenated List: [1, 2, 3, 4, 5, 6]\n",
    "# List repetition\n",
    "repeated_list = list1 * 3\n",
    "print(\"Repeated List:\", repeated_list)  # Output: Repeated List: [1, 2, 3, 1, 2, 3, 1, 2, 3]\n",
    "# List comparison\n",
    "list_a = [1, 2, 3]\n",
    "list_b = [1, 2, 3]\n",
    "print(\"List A == List B:\", list_a == list_b)  # Output: List A == List B: True\n",
    "\n",
    "list_c = [1, 2, 4]\n",
    "lst_d = ['a', 'b', 'c']\n",
    "lst_e= [(a,b) for a in list_c for b in lst_d]\n",
    "print(\"List e:\", lst_e)  # List e: [(1, 'a'), (1, 'b'), (1, 'c'), (2, 'a'), (2, 'b'), (2, 'c'), (4, 'a'), (4, 'b'), (4, 'c')]\n",
    "\n",
    "#List compression with function\n",
    "def square(x):\n",
    "    return x * x\n",
    "squared_list = [square(i) for i in range(10)]\n",
    "print(\"Squared List:\", squared_list)  # Output: Squared List: [0, 1, 4, 9, 16, 25, 36, 49, 64, 81]\n",
    "\n",
    "#if-else in list comprehension\n",
    "numbers = [1, 2, 3, 4, 5]\n",
    "new_list = [\"even\" if num % 2 == 0 else \"odd\" for num in numbers]\n",
    "print(new_list)  # Output: ['odd', 'even', 'odd', 'even', 'odd']"
   ]
  }
 ],
 "metadata": {
  "kernelspec": {
   "display_name": "Python 3",
   "language": "python",
   "name": "python3"
  },
  "language_info": {
   "codemirror_mode": {
    "name": "ipython",
    "version": 3
   },
   "file_extension": ".py",
   "mimetype": "text/x-python",
   "name": "python",
   "nbconvert_exporter": "python",
   "pygments_lexer": "ipython3",
   "version": "3.10.17"
  }
 },
 "nbformat": 4,
 "nbformat_minor": 5
}
